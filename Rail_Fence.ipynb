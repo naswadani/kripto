{
  "nbformat": 4,
  "nbformat_minor": 0,
  "metadata": {
    "colab": {
      "provenance": [],
      "authorship_tag": "ABX9TyOUt3peJYue9GswJN55reKM",
      "include_colab_link": true
    },
    "kernelspec": {
      "name": "python3",
      "display_name": "Python 3"
    },
    "language_info": {
      "name": "python"
    }
  },
  "cells": [
    {
      "cell_type": "markdown",
      "metadata": {
        "id": "view-in-github",
        "colab_type": "text"
      },
      "source": [
        "<a href=\"https://colab.research.google.com/github/naswadani/kripto/blob/main/Rail_Fence.ipynb\" target=\"_parent\"><img src=\"https://colab.research.google.com/assets/colab-badge.svg\" alt=\"Open In Colab\"/></a>"
      ]
    },
    {
      "cell_type": "code",
      "source": [
        "def enkripsi_rail_fence(text, key):\n",
        "  #membuat nested array berdasarkan dengan besar key\n",
        "  rails = [[] for _ in range(key)]\n",
        "  index = 0\n",
        "  #jika 1 maka turun, jika -1 maka naik\n",
        "  direction = 1\n",
        "\n",
        "  for char in text:\n",
        "    rails[index].append(char)\n",
        "    #jika index = 0, arah nya akan berubah kebawah\n",
        "    if index == 0:\n",
        "      direction = 1\n",
        "       #jika sudah mencapai index terbesar (key-1), arah nya akan berubah keatas\n",
        "    elif index == key - 1:\n",
        "      direction = -1\n",
        "    #menambahkan index dengan direction, untuk menentukan apakah ke atas atau ke bawah\n",
        "    index += direction\n",
        "\n",
        "    #melakukan join pada setiap rail dalam array rails\n",
        "    enkripsi_teks = \"\".join([\"\".join(rail) for rail in rails])\n",
        "\n",
        "  return enkripsi_teks\n",
        "\n",
        "def dekripsi_rail_fence(enkripsi_teks, key):\n",
        "  rails = [[] for _ in range(key)]\n",
        "  index = 0\n",
        "  direction = 1\n",
        "\n",
        "  #digunakan untuk membuat placeholder\n",
        "  for char in enkripsi_teks:\n",
        "    rails[index].append(None)\n",
        "    #jika index = 0, arah nya akan berubah kebawah\n",
        "    if index == 0:\n",
        "      direction = 1\n",
        "    #jika sudah mencapai index terbesar (key-1), arah nya akan berubah keatas\n",
        "    elif index == key - 1:\n",
        "      direction = -1\n",
        "    index += direction\n",
        "\n",
        "#Mengisi placeholder yang sudah dibuat dengan teks enkripsi\n",
        "  index_char = 0\n",
        "  for rail in rails:\n",
        "      for i in range(len(rail)):\n",
        "          rail[i] = enkripsi_teks[index_char]\n",
        "          index_char += 1\n",
        "\n",
        "  #mendekrasikan ulang\n",
        "  index = 0\n",
        "  direction = 1\n",
        "  dekripsi_teks = []\n",
        "\n",
        "  for _ in range(len(enkripsi_teks)):\n",
        "    #pop(0) digunakan untuk menghapus karakter pertama yang sesuai index pada rails, dan dibangun ulang pada array deskripsi_teks\n",
        "    dekripsi_teks.append(rails[index].pop(0))\n",
        "     #jika index = 0, arah nya akan berubah kebawah\n",
        "    if index == 0:\n",
        "      direction = 1\n",
        "    #jika sudah mencapai index terbesar (key-1), arah nya akan berubah keatas\n",
        "    elif index == key - 1:\n",
        "      direction = -1\n",
        "    index += direction\n",
        "\n",
        "  return \"\".join(dekripsi_teks)\n",
        "\n",
        "key = 5 #menggunakan key 5, maksudnya nilai index maksimal adalah 5\n",
        "message = input(\"Input message : \")\n",
        "\n",
        "enkripsi_pesan = enkripsi_rail_fence(message, key)\n",
        "print(\"Pesan enkripsi :\",enkripsi_pesan)\n",
        "dekripsi_pesan = dekripsi_rail_fence(enkripsi_pesan, key)\n",
        "print(\"Pesan dekripsi :\",dekripsi_pesan)"
      ],
      "metadata": {
        "colab": {
          "base_uri": "https://localhost:8080/"
        },
        "id": "ptZaYJ8kLdhn",
        "outputId": "a4e5c2d3-39ff-488e-ae46-78c9f1d0975e"
      },
      "execution_count": null,
      "outputs": [
        {
          "output_type": "stream",
          "name": "stdout",
          "text": [
            "Input message : kontlo babi\n",
            "Pesan enkripsi : kaobbn itol\n",
            "Pesan dekripsi : kontlo babi\n"
          ]
        }
      ]
    },
    {
      "cell_type": "code",
      "source": [],
      "metadata": {
        "id": "SdW_0cXbZ7-G"
      },
      "execution_count": null,
      "outputs": []
    }
  ]
}