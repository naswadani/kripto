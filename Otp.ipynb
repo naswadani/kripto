{
  "cells": [
    {
      "cell_type": "markdown",
      "metadata": {
        "id": "view-in-github",
        "colab_type": "text"
      },
      "source": [
        "<a href=\"https://colab.research.google.com/github/naswadani/kripto/blob/main/Otp.ipynb\" target=\"_parent\"><img src=\"https://colab.research.google.com/assets/colab-badge.svg\" alt=\"Open In Colab\"/></a>"
      ]
    },
    {
      "cell_type": "code",
      "execution_count": null,
      "id": "9b222518",
      "metadata": {
        "colab": {
          "base_uri": "https://localhost:8080/"
        },
        "id": "9b222518",
        "outputId": "bba0b182-9988-445c-a362-1a9da3d9bd9b"
      },
      "outputs": [
        {
          "output_type": "stream",
          "name": "stdout",
          "text": [
            "Input message: assalaamuaikum\n",
            "Key - DBMFXHRKQRZMUN\n",
            "Cipher - DTEFIHRWKRHWOZ\n",
            "Message - ASSALAAMUAIKUM\n"
          ]
        }
      ],
      "source": [
        "import random\n",
        "import string\n",
        "\n",
        "def generateKey(length):\n",
        "    # Ambil string dari string.ascii_uppercase\n",
        "    letters = string.ascii_uppercase\n",
        "\n",
        "    # Mengambil char acak dari letters, kemudian di ulangi sebanyak length, masing-masing char dijoin\n",
        "    key = ''.join(random.choice(letters) for i in range(length))\n",
        "\n",
        "    return key\n",
        "\n",
        "def encrypt(text, key):\n",
        "    cipherText = \"\"\n",
        "\n",
        "    cipher = []\n",
        "    for i in range(len(key)):\n",
        "        # Ubah alphabetical kedalam unicode\n",
        "        # Unicode dikurangi dengan unicode A untuk mengambil jarak numerik (0-25)\n",
        "        txtNum = ord(text[i]) - ord('A')\n",
        "        keyNum = ord(key[i]) - ord('A')\n",
        "\n",
        "        # Numerik ditambahkan\n",
        "        sumNum = txtNum + keyNum\n",
        "\n",
        "        # Kurangi numerik jika > 25\n",
        "        if sumNum > 25:\n",
        "            sumNum -= 26\n",
        "\n",
        "        # Tambahkan numerik dengan unicode A kemudian di convert ke dalam alphabetical\n",
        "        # Lalu ditambahkan ke var cipherText untuk di return\n",
        "        cipherText += chr(sumNum + ord('A'))\n",
        "\n",
        "\n",
        "    return cipherText\n",
        "\n",
        "\n",
        "def decrypt(s, key):\n",
        "    plainText = \"\"\n",
        "\n",
        "    for i in range(len(key)):\n",
        "        # Ubah alphabetical kedalam unicode\n",
        "        # Unicode dikurangi dengan unicode A untuk mengambil jarak numerik (0-25)\n",
        "        txtNum = ord(s[i]) - ord('A')\n",
        "        keyNum = ord(key[i]) - ord('A')\n",
        "\n",
        "        # Numerik dikurangi\n",
        "        subNum = txtNum - keyNum\n",
        "\n",
        "        # Tambah numerik jika < 0\n",
        "        if subNum < 0:\n",
        "            subNum += 26\n",
        "\n",
        "        # Tambahkan numerik dengan unicode A kemudian di convert ke dalam alphabetical\n",
        "        # Lalu ditambahkan ke var plainText untuk di return\n",
        "        plainText += chr(subNum + ord('A'))\n",
        "\n",
        "    return plainText\n",
        "\n",
        "\n",
        "plainText = input(\"Input message: \")\n",
        "\n",
        "key = generateKey(len(plainText))\n",
        "\n",
        "encryptedText = encrypt(plainText.upper(), key.upper())\n",
        "\n",
        "print(\"Key - \" + key)\n",
        "print(\"Cipher - \" + encryptedText)\n",
        "print(\"Message - \" + decrypt(encryptedText, key.upper()))"
      ]
    }
  ],
  "metadata": {
    "kernelspec": {
      "display_name": "Python 3 (ipykernel)",
      "language": "python",
      "name": "python3"
    },
    "language_info": {
      "codemirror_mode": {
        "name": "ipython",
        "version": 3
      },
      "file_extension": ".py",
      "mimetype": "text/x-python",
      "name": "python",
      "nbconvert_exporter": "python",
      "pygments_lexer": "ipython3",
      "version": "3.10.9"
    },
    "colab": {
      "provenance": [],
      "include_colab_link": true
    }
  },
  "nbformat": 4,
  "nbformat_minor": 5
}