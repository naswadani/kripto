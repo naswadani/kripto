{
  "cells": [
    {
      "cell_type": "markdown",
      "metadata": {
        "id": "view-in-github",
        "colab_type": "text"
      },
      "source": [
        "<a href=\"https://colab.research.google.com/github/naswadani/kripto/blob/main/DES.ipynb\" target=\"_parent\"><img src=\"https://colab.research.google.com/assets/colab-badge.svg\" alt=\"Open In Colab\"/></a>"
      ]
    },
    {
      "cell_type": "markdown",
      "source": [
        "**Input Plaintext dan Key**"
      ],
      "metadata": {
        "id": "ZrqG3B41lcKA"
      }
    },
    {
      "cell_type": "code",
      "source": [
        "import secrets\n",
        "plain_text = input(\"Masukan PlainText = \")\n",
        "if len(plain_text) != 8:\n",
        "  raise Exception(\"Untuk saat ini hanya bisa menggunakan 8byte String\")\n",
        "kunci = input(\"Masukkan Kunci (8byte bentuk text) =  \")\n",
        "if len(kunci) == 8:\n",
        "  #merubah kunci menjadi bentuk hexsadecimal\n",
        "  hex_key = kunci.encode('utf-8').hex().upper()\n",
        "else:\n",
        "  raise Exception(\"Panjang Kunci harus 8 karakter\")"
      ],
      "metadata": {
        "id": "ky8d8IVYkk4u",
        "outputId": "53541443-d594-4524-e9f0-70a23bcb161b",
        "colab": {
          "base_uri": "https://localhost:8080/"
        }
      },
      "execution_count": 98,
      "outputs": [
        {
          "name": "stdout",
          "output_type": "stream",
          "text": [
            "Masukan PlainText = semangat\n",
            "Masukkan Kunci (8byte bentuk text) =  ganbatte\n"
          ]
        }
      ]
    },
    {
      "cell_type": "markdown",
      "source": [
        "**Merubah Bentuk Plaintext**"
      ],
      "metadata": {
        "id": "4PkoKoVvl7KS"
      }
    },
    {
      "cell_type": "code",
      "source": [
        "#merubah plaintext menjadi bentuk ASCII\n",
        "ascii_list = [ord(char) for char in plain_text]\n",
        "#merubah bentuk ASCII dari plaintext ke dalam bentuk binary\n",
        "binary_list = [format(angka, '08b')for angka in ascii_list]"
      ],
      "metadata": {
        "id": "Jt2wlvNMk4HM"
      },
      "execution_count": 3,
      "outputs": []
    },
    {
      "cell_type": "code",
      "execution_count": 4,
      "metadata": {
        "colab": {
          "base_uri": "https://localhost:8080/"
        },
        "id": "ROmuhwPFTEoc",
        "outputId": "815df533-9a2a-4eb1-9149-27622abfd32f"
      },
      "outputs": [
        {
          "output_type": "stream",
          "name": "stdout",
          "text": [
            "Bentuk Hex Key =  736170696B6B6132\n",
            "Bentuk ASCII   =  [115, 101, 109, 97, 110, 103, 97, 116]\n",
            "Bentuk Binary  =  ['01110011', '01100101', '01101101', '01100001', '01101110', '01100111', '01100001', '01110100']\n"
          ]
        }
      ],
      "source": [
        "print(\"Bentuk Hex Key = \",hex_key )\n",
        "print(\"Bentuk ASCII   = \",ascii_list)\n",
        "print(\"Bentuk Binary  = \",binary_list)"
      ]
    },
    {
      "cell_type": "markdown",
      "source": [
        "**Langkah 1 : Permutasi Awal**"
      ],
      "metadata": {
        "id": "1MFpruP3nBdu"
      }
    },
    {
      "cell_type": "code",
      "source": [
        "#Urutan bit permutasi awal\n",
        "tabel_permutasi_awal = [\n",
        "    58, 50, 42, 34, 26, 18, 10, 2,\n",
        "    60, 52, 44, 36, 28, 20, 12, 4,\n",
        "    62, 54, 46, 38, 30, 22, 14, 6,\n",
        "    64, 56, 48, 40, 32, 24, 16, 8,\n",
        "    57, 49, 41, 33, 25, 17, 9, 1,\n",
        "    59, 51, 43, 35, 27, 19, 11, 3,\n",
        "    61, 53, 45, 37, 29, 21, 13, 5,\n",
        "    63, 55, 47, 39, 31, 23, 15, 7\n",
        "]"
      ],
      "metadata": {
        "id": "CrIPr8-Gmm22"
      },
      "execution_count": 8,
      "outputs": []
    },
    {
      "cell_type": "code",
      "source": [
        "#merubah bentuk array 2D (8bit per sub array) menjadi array 1D\n",
        "P = []\n",
        "for sub in binary_list:\n",
        "  for i in sub:\n",
        "    z = int(i)\n",
        "    P.append(z)\n",
        "print(P)"
      ],
      "metadata": {
        "id": "wJwIm1ZiE_dZ",
        "colab": {
          "base_uri": "https://localhost:8080/"
        },
        "outputId": "a9e71ffa-2e0e-4048-ea46-acdc5ced1e13"
      },
      "execution_count": 31,
      "outputs": [
        {
          "output_type": "stream",
          "name": "stdout",
          "text": [
            "[0, 1, 1, 1, 0, 0, 1, 1, 0, 1, 1, 0, 0, 1, 0, 1, 0, 1, 1, 0, 1, 1, 0, 1, 0, 1, 1, 0, 0, 0, 0, 1, 0, 1, 1, 0, 1, 1, 1, 0, 0, 1, 1, 0, 0, 1, 1, 1, 0, 1, 1, 0, 0, 0, 0, 1, 0, 1, 1, 1, 0, 1, 0, 0]\n"
          ]
        }
      ]
    },
    {
      "cell_type": "code",
      "source": [
        "#Encoding setiap 64 bit data pada Plaintext dengan IP\n",
        "IP = []\n",
        "for j in tabel_permutasi_awal:\n",
        "  char = P[j-1]\n",
        "  IP.append(char)\n",
        "print(\"P\\t: \",P)\n",
        "print(\"IP\\t: \", IP)"
      ],
      "metadata": {
        "id": "vnSIky26nMv2",
        "outputId": "8640ad0a-0082-425b-ed9a-a0b8445f6958",
        "colab": {
          "base_uri": "https://localhost:8080/"
        }
      },
      "execution_count": 55,
      "outputs": [
        {
          "output_type": "stream",
          "name": "stdout",
          "text": [
            "P\t:  [0, 1, 1, 1, 0, 0, 1, 1, 0, 1, 1, 0, 0, 1, 0, 1, 0, 1, 1, 0, 1, 1, 0, 1, 0, 1, 1, 0, 0, 0, 0, 1, 0, 1, 1, 0, 1, 1, 1, 0, 0, 1, 1, 0, 0, 1, 1, 1, 0, 1, 1, 0, 0, 0, 0, 1, 0, 1, 1, 1, 0, 1, 0, 0]\n",
            "IP\t:  [1, 1, 1, 1, 1, 1, 1, 1, 1, 0, 0, 0, 0, 0, 0, 1, 1, 0, 1, 1, 0, 1, 1, 0, 0, 1, 1, 0, 1, 1, 1, 1, 0, 0, 0, 0, 0, 0, 0, 0, 1, 1, 1, 1, 1, 1, 1, 1, 0, 0, 0, 1, 0, 1, 0, 0, 0, 0, 1, 1, 0, 0, 0, 1]\n"
          ]
        }
      ]
    },
    {
      "cell_type": "markdown",
      "source": [
        "**Langkah 2 : Pecah hasil IP menjadi bagian kiri sebanyak 32 bit (L0) dan kanan sebanyak 32 bit (R0)**"
      ],
      "metadata": {
        "id": "Hn2HsvEZreu_"
      }
    },
    {
      "cell_type": "code",
      "source": [
        "L0 = IP[:32]\n",
        "R0 = IP[32:]\n",
        "print(\"L0\\t : \",L0)\n",
        "print(\"R0\\t : \",R0)"
      ],
      "metadata": {
        "id": "YB3_3PP2rqq3",
        "outputId": "4c1ac148-c4fd-4e14-e4f2-016884f70096",
        "colab": {
          "base_uri": "https://localhost:8080/"
        }
      },
      "execution_count": 37,
      "outputs": [
        {
          "output_type": "stream",
          "name": "stdout",
          "text": [
            "L0\t :  [1, 1, 1, 1, 1, 1, 1, 1, 1, 0, 0, 0, 0, 0, 0, 1, 1, 0, 1, 1, 0, 1, 1, 0, 0, 1, 1, 0, 1, 1, 1, 1]\n",
            "R0\t :  [0, 0, 0, 0, 0, 0, 0, 0, 1, 1, 1, 1, 1, 1, 1, 1, 0, 0, 0, 1, 0, 1, 0, 0, 0, 0, 1, 1, 0, 0, 0, 1]\n"
          ]
        }
      ]
    },
    {
      "cell_type": "markdown",
      "source": [
        "**Langkah 3: Pembangkitan Kunci**"
      ],
      "metadata": {
        "id": "tigaaAV8sXSS"
      }
    },
    {
      "cell_type": "code",
      "source": [
        "#fungi untuk mengubah hexsadecimal menjadi biner\n",
        "def heksadesimal_ke_biner(heks_string):\n",
        "    panjang_biner = len(heks_string) * 4\n",
        "    biner_string = bin(int(heks_string, 16))[2:].zfill(panjang_biner)\n",
        "    return biner_string"
      ],
      "metadata": {
        "id": "ZDPWbRGRsd0P"
      },
      "execution_count": 49,
      "outputs": []
    },
    {
      "cell_type": "code",
      "source": [
        "key_biner_string = []\n",
        "#merubah bentuk hex menjadi biner\n",
        "for hex_string in hex_key:\n",
        "  biner_str = heksadesimal_ke_biner(hex_string)\n",
        "  key_biner_string.append(biner_str)\n",
        "\n",
        "key_biner = []\n",
        "for sub in key_biner_string:\n",
        "  for i in sub:\n",
        "    z = int(i)\n",
        "    key_biner.append(z)\n",
        "print(\"Bentuk biner kunci : \", key_biner)"
      ],
      "metadata": {
        "colab": {
          "base_uri": "https://localhost:8080/"
        },
        "id": "YMYsBU4o49M7",
        "outputId": "4a833e76-652b-4571-ca45-36c0d20b215f"
      },
      "execution_count": 54,
      "outputs": [
        {
          "output_type": "stream",
          "name": "stdout",
          "text": [
            "Bentuk biner kunci :  [0, 1, 1, 1, 0, 0, 1, 1, 0, 1, 1, 0, 0, 0, 0, 1, 0, 1, 1, 1, 0, 0, 0, 0, 0, 1, 1, 0, 1, 0, 0, 1, 0, 1, 1, 0, 1, 0, 1, 1, 0, 1, 1, 0, 1, 0, 1, 1, 0, 1, 1, 0, 0, 0, 0, 1, 0, 0, 1, 1, 0, 0, 1, 0]\n"
          ]
        }
      ]
    },
    {
      "cell_type": "markdown",
      "source": [
        "**Langkah 4: Permutasi PC-1**"
      ],
      "metadata": {
        "id": "qh-tN0yzvKCu"
      }
    },
    {
      "cell_type": "code",
      "source": [
        "#tabel PC-1\n",
        "tabelpc1 = [\n",
        "    57,49,41,33,25,17,9,\n",
        "    1,58,50,42,34,26,18,\n",
        "    10,2,59,51,43,35,27,\n",
        "    19,11,3,60,52,44,36,\n",
        "    63,55,47,39,31,23,15,\n",
        "    7,62,54,46,38,30,22,\n",
        "    14,6,61,53,45,37,29,\n",
        "    21,13,5,28,20,12,4\n",
        "]"
      ],
      "metadata": {
        "id": "4Tq6wodDvuUB"
      },
      "execution_count": 59,
      "outputs": []
    },
    {
      "cell_type": "code",
      "source": [
        "#Mutasi antara bentuk biner kunci dengan PC-1\n",
        "Kplus = []\n",
        "for j in tabelpc1:\n",
        "  char = key_biner[j-1]\n",
        "  Kplus.append(char)\n",
        "print(\"K+\\t: \",Kplus)"
      ],
      "metadata": {
        "id": "SmU5FECUvCac",
        "outputId": "1ea4c570-b648-4863-b769-5080d94341c7",
        "colab": {
          "base_uri": "https://localhost:8080/"
        }
      },
      "execution_count": 65,
      "outputs": [
        {
          "output_type": "stream",
          "name": "stdout",
          "text": [
            "K+\t:  [0, 0, 0, 0, 0, 0, 0, 0, 0, 1, 1, 1, 1, 1, 1, 1, 1, 1, 1, 1, 1, 1, 1, 1, 1, 0, 0, 0, 1, 0, 1, 1, 0, 0, 0, 1, 0, 0, 0, 0, 0, 0, 0, 0, 0, 0, 1, 1, 1, 0, 0, 0, 0, 1, 0, 1]\n"
          ]
        }
      ]
    },
    {
      "cell_type": "markdown",
      "source": [
        "**Langkah 5: Pecah menjadi C0 dan D0**"
      ],
      "metadata": {
        "id": "wUYWO31UwhB3"
      }
    },
    {
      "cell_type": "code",
      "source": [
        "C0 = Kplus[:28]\n",
        "D0 = Kplus[28:]\n",
        "print(\"C0\\t = \",C0)\n",
        "print(\"D0\\t = \",D0)"
      ],
      "metadata": {
        "id": "AZHSby9WvPIm",
        "outputId": "8ce5245e-90dd-4f38-f008-f1c8363f5281",
        "colab": {
          "base_uri": "https://localhost:8080/"
        }
      },
      "execution_count": 67,
      "outputs": [
        {
          "output_type": "stream",
          "name": "stdout",
          "text": [
            "C0\t =  [0, 0, 0, 0, 0, 0, 0, 0, 0, 1, 1, 1, 1, 1, 1, 1, 1, 1, 1, 1, 1, 1, 1, 1, 1, 0, 0, 0]\n",
            "D0\t =  [1, 0, 1, 1, 0, 0, 0, 1, 0, 0, 0, 0, 0, 0, 0, 0, 0, 0, 1, 1, 1, 0, 0, 0, 0, 1, 0, 1]\n"
          ]
        }
      ]
    },
    {
      "cell_type": "markdown",
      "source": [
        "**Langkah 6: Melakukan pergeseran C0 dan D0 menggunakan Tabel Wrapping**"
      ],
      "metadata": {
        "id": "7l83TbXIw768"
      }
    },
    {
      "cell_type": "code",
      "source": [
        "#tabel wrapping\n",
        "tabelWrapping = [1,1,2,2,2,2,2,2,1,2,2,2,2,2,2,1]"
      ],
      "metadata": {
        "id": "nkPxqwClxSFm"
      },
      "execution_count": 68,
      "outputs": []
    },
    {
      "cell_type": "code",
      "source": [
        "#melakukan pergeseran sesuai dengan tabel wrapping\n",
        "Cx = []\n",
        "Dx = []\n",
        "for move in tabelWrapping:\n",
        "    move = move % len(C0)\n",
        "    D0 = D0[move:] + D0[:move]\n",
        "    C0 = C0[move:] + C0[:move]\n",
        "    Cx.append(C0)\n",
        "    Dx.append(D0)"
      ],
      "metadata": {
        "id": "gyPuluoexgIU"
      },
      "execution_count": 71,
      "outputs": []
    },
    {
      "cell_type": "code",
      "source": [
        "#mencetak C0 dan Dx\n",
        "print(\"C0\",\"\\t= \",C0,sep='')\n",
        "print(\"D0\",\"\\t= \",D0,sep='')\n",
        "print(\"\")\n",
        "\n",
        "#mencetak Cx dan Dx\n",
        "nomer = 1\n",
        "for i in range(0,16):\n",
        "  print(\"C\",nomer,\"\\t= \",Cx[i],sep='')\n",
        "  print(\"D\",nomer,\"\\t= \",Dx[i],sep='')\n",
        "  print(\"\")\n",
        "  nomer+=1\n"
      ],
      "metadata": {
        "id": "0WuVg-64bDFT",
        "outputId": "3b857198-417c-4e3d-af05-f2e28dfff3f7",
        "colab": {
          "base_uri": "https://localhost:8080/"
        }
      },
      "execution_count": 80,
      "outputs": [
        {
          "output_type": "stream",
          "name": "stdout",
          "text": [
            "C0\t= [0, 0, 0, 0, 0, 0, 0, 0, 0, 1, 1, 1, 1, 1, 1, 1, 1, 1, 1, 1, 1, 1, 1, 1, 1, 0, 0, 0]\n",
            "D0\t= [1, 0, 1, 1, 0, 0, 0, 1, 0, 0, 0, 0, 0, 0, 0, 0, 0, 0, 1, 1, 1, 0, 0, 0, 0, 1, 0, 1]\n",
            "\n",
            "C1\t= [0, 0, 0, 0, 0, 0, 0, 0, 1, 1, 1, 1, 1, 1, 1, 1, 1, 1, 1, 1, 1, 1, 1, 1, 0, 0, 0, 0]\n",
            "D1\t= [0, 1, 1, 0, 0, 0, 1, 0, 0, 0, 0, 0, 0, 0, 0, 0, 0, 1, 1, 1, 0, 0, 0, 0, 1, 0, 1, 1]\n",
            "\n",
            "C2\t= [0, 0, 0, 0, 0, 0, 0, 1, 1, 1, 1, 1, 1, 1, 1, 1, 1, 1, 1, 1, 1, 1, 1, 0, 0, 0, 0, 0]\n",
            "D2\t= [1, 1, 0, 0, 0, 1, 0, 0, 0, 0, 0, 0, 0, 0, 0, 0, 1, 1, 1, 0, 0, 0, 0, 1, 0, 1, 1, 0]\n",
            "\n",
            "C3\t= [0, 0, 0, 0, 0, 1, 1, 1, 1, 1, 1, 1, 1, 1, 1, 1, 1, 1, 1, 1, 1, 0, 0, 0, 0, 0, 0, 0]\n",
            "D3\t= [0, 0, 0, 1, 0, 0, 0, 0, 0, 0, 0, 0, 0, 0, 1, 1, 1, 0, 0, 0, 0, 1, 0, 1, 1, 0, 1, 1]\n",
            "\n",
            "C4\t= [0, 0, 0, 1, 1, 1, 1, 1, 1, 1, 1, 1, 1, 1, 1, 1, 1, 1, 1, 0, 0, 0, 0, 0, 0, 0, 0, 0]\n",
            "D4\t= [0, 1, 0, 0, 0, 0, 0, 0, 0, 0, 0, 0, 1, 1, 1, 0, 0, 0, 0, 1, 0, 1, 1, 0, 1, 1, 0, 0]\n",
            "\n",
            "C5\t= [0, 1, 1, 1, 1, 1, 1, 1, 1, 1, 1, 1, 1, 1, 1, 1, 1, 0, 0, 0, 0, 0, 0, 0, 0, 0, 0, 0]\n",
            "D5\t= [0, 0, 0, 0, 0, 0, 0, 0, 0, 0, 1, 1, 1, 0, 0, 0, 0, 1, 0, 1, 1, 0, 1, 1, 0, 0, 0, 1]\n",
            "\n",
            "C6\t= [1, 1, 1, 1, 1, 1, 1, 1, 1, 1, 1, 1, 1, 1, 1, 0, 0, 0, 0, 0, 0, 0, 0, 0, 0, 0, 0, 1]\n",
            "D6\t= [0, 0, 0, 0, 0, 0, 0, 0, 1, 1, 1, 0, 0, 0, 0, 1, 0, 1, 1, 0, 1, 1, 0, 0, 0, 1, 0, 0]\n",
            "\n",
            "C7\t= [1, 1, 1, 1, 1, 1, 1, 1, 1, 1, 1, 1, 1, 0, 0, 0, 0, 0, 0, 0, 0, 0, 0, 0, 0, 1, 1, 1]\n",
            "D7\t= [0, 0, 0, 0, 0, 0, 1, 1, 1, 0, 0, 0, 0, 1, 0, 1, 1, 0, 1, 1, 0, 0, 0, 1, 0, 0, 0, 0]\n",
            "\n",
            "C8\t= [1, 1, 1, 1, 1, 1, 1, 1, 1, 1, 1, 0, 0, 0, 0, 0, 0, 0, 0, 0, 0, 0, 0, 1, 1, 1, 1, 1]\n",
            "D8\t= [0, 0, 0, 0, 1, 1, 1, 0, 0, 0, 0, 1, 0, 1, 1, 0, 1, 1, 0, 0, 0, 1, 0, 0, 0, 0, 0, 0]\n",
            "\n",
            "C9\t= [1, 1, 1, 1, 1, 1, 1, 1, 1, 1, 0, 0, 0, 0, 0, 0, 0, 0, 0, 0, 0, 0, 1, 1, 1, 1, 1, 1]\n",
            "D9\t= [0, 0, 0, 1, 1, 1, 0, 0, 0, 0, 1, 0, 1, 1, 0, 1, 1, 0, 0, 0, 1, 0, 0, 0, 0, 0, 0, 0]\n",
            "\n",
            "C10\t= [1, 1, 1, 1, 1, 1, 1, 1, 0, 0, 0, 0, 0, 0, 0, 0, 0, 0, 0, 0, 1, 1, 1, 1, 1, 1, 1, 1]\n",
            "D10\t= [0, 1, 1, 1, 0, 0, 0, 0, 1, 0, 1, 1, 0, 1, 1, 0, 0, 0, 1, 0, 0, 0, 0, 0, 0, 0, 0, 0]\n",
            "\n",
            "C11\t= [1, 1, 1, 1, 1, 1, 0, 0, 0, 0, 0, 0, 0, 0, 0, 0, 0, 0, 1, 1, 1, 1, 1, 1, 1, 1, 1, 1]\n",
            "D11\t= [1, 1, 0, 0, 0, 0, 1, 0, 1, 1, 0, 1, 1, 0, 0, 0, 1, 0, 0, 0, 0, 0, 0, 0, 0, 0, 0, 1]\n",
            "\n",
            "C12\t= [1, 1, 1, 1, 0, 0, 0, 0, 0, 0, 0, 0, 0, 0, 0, 0, 1, 1, 1, 1, 1, 1, 1, 1, 1, 1, 1, 1]\n",
            "D12\t= [0, 0, 0, 0, 1, 0, 1, 1, 0, 1, 1, 0, 0, 0, 1, 0, 0, 0, 0, 0, 0, 0, 0, 0, 0, 1, 1, 1]\n",
            "\n",
            "C13\t= [1, 1, 0, 0, 0, 0, 0, 0, 0, 0, 0, 0, 0, 0, 1, 1, 1, 1, 1, 1, 1, 1, 1, 1, 1, 1, 1, 1]\n",
            "D13\t= [0, 0, 1, 0, 1, 1, 0, 1, 1, 0, 0, 0, 1, 0, 0, 0, 0, 0, 0, 0, 0, 0, 0, 1, 1, 1, 0, 0]\n",
            "\n",
            "C14\t= [0, 0, 0, 0, 0, 0, 0, 0, 0, 0, 0, 0, 1, 1, 1, 1, 1, 1, 1, 1, 1, 1, 1, 1, 1, 1, 1, 1]\n",
            "D14\t= [1, 0, 1, 1, 0, 1, 1, 0, 0, 0, 1, 0, 0, 0, 0, 0, 0, 0, 0, 0, 0, 1, 1, 1, 0, 0, 0, 0]\n",
            "\n",
            "C15\t= [0, 0, 0, 0, 0, 0, 0, 0, 0, 0, 1, 1, 1, 1, 1, 1, 1, 1, 1, 1, 1, 1, 1, 1, 1, 1, 0, 0]\n",
            "D15\t= [1, 1, 0, 1, 1, 0, 0, 0, 1, 0, 0, 0, 0, 0, 0, 0, 0, 0, 0, 1, 1, 1, 0, 0, 0, 0, 1, 0]\n",
            "\n",
            "C16\t= [0, 0, 0, 0, 0, 0, 0, 0, 0, 1, 1, 1, 1, 1, 1, 1, 1, 1, 1, 1, 1, 1, 1, 1, 1, 0, 0, 0]\n",
            "D16\t= [1, 0, 1, 1, 0, 0, 0, 1, 0, 0, 0, 0, 0, 0, 0, 0, 0, 0, 1, 1, 1, 0, 0, 0, 0, 1, 0, 1]\n",
            "\n"
          ]
        }
      ]
    },
    {
      "cell_type": "markdown",
      "source": [
        "**Langkah 7: Permutasi PC-2**"
      ],
      "metadata": {
        "id": "tsmrQja1ykWV"
      }
    },
    {
      "cell_type": "code",
      "source": [
        "#tabel PC-2\n",
        "tabelpc2 = [\n",
        "    14,17,11,24,1,5,\n",
        "    3,28,15,6,21,10,\n",
        "    23,19,12,4,26,8,\n",
        "    16,7,27,20,13,2,\n",
        "    41,52,31,37,47,55,\n",
        "    30,40,51,45,33,48,\n",
        "    44,49,39,56,34,53,\n",
        "    46,42,50,36,29,32\n",
        "]"
      ],
      "metadata": {
        "id": "bHpEUIr8yjdx"
      },
      "execution_count": 81,
      "outputs": []
    },
    {
      "cell_type": "code",
      "source": [
        "CoDo = []\n",
        "# Pengabungan antara Cx dan Dx\n",
        "for sub_C, sub_D in zip(Cx, Dx):\n",
        "    array_gabungan = sub_C + sub_D\n",
        "    CoDo.append(array_gabungan)"
      ],
      "metadata": {
        "id": "_kfReA6ZywS3"
      },
      "execution_count": 82,
      "outputs": []
    },
    {
      "cell_type": "code",
      "source": [
        "# Mencetak hasil penggabungan Cx dan Dx\n",
        "num = 1\n",
        "for arr in CoDo:\n",
        "    print(\"C \",num,\" D \",num,\"\\t= \",arr,sep='')\n",
        "    num+=1"
      ],
      "metadata": {
        "id": "fQbtGZl0y_Vb",
        "outputId": "35854acc-3ddb-4df8-9c8b-23de0a6a7073",
        "colab": {
          "base_uri": "https://localhost:8080/"
        }
      },
      "execution_count": 87,
      "outputs": [
        {
          "output_type": "stream",
          "name": "stdout",
          "text": [
            "C 1 D 1\t= [0, 0, 0, 0, 0, 0, 0, 0, 1, 1, 1, 1, 1, 1, 1, 1, 1, 1, 1, 1, 1, 1, 1, 1, 0, 0, 0, 0, 0, 1, 1, 0, 0, 0, 1, 0, 0, 0, 0, 0, 0, 0, 0, 0, 0, 1, 1, 1, 0, 0, 0, 0, 1, 0, 1, 1]\n",
            "C 2 D 2\t= [0, 0, 0, 0, 0, 0, 0, 1, 1, 1, 1, 1, 1, 1, 1, 1, 1, 1, 1, 1, 1, 1, 1, 0, 0, 0, 0, 0, 1, 1, 0, 0, 0, 1, 0, 0, 0, 0, 0, 0, 0, 0, 0, 0, 1, 1, 1, 0, 0, 0, 0, 1, 0, 1, 1, 0]\n",
            "C 3 D 3\t= [0, 0, 0, 0, 0, 1, 1, 1, 1, 1, 1, 1, 1, 1, 1, 1, 1, 1, 1, 1, 1, 0, 0, 0, 0, 0, 0, 0, 0, 0, 0, 1, 0, 0, 0, 0, 0, 0, 0, 0, 0, 0, 1, 1, 1, 0, 0, 0, 0, 1, 0, 1, 1, 0, 1, 1]\n",
            "C 4 D 4\t= [0, 0, 0, 1, 1, 1, 1, 1, 1, 1, 1, 1, 1, 1, 1, 1, 1, 1, 1, 0, 0, 0, 0, 0, 0, 0, 0, 0, 0, 1, 0, 0, 0, 0, 0, 0, 0, 0, 0, 0, 1, 1, 1, 0, 0, 0, 0, 1, 0, 1, 1, 0, 1, 1, 0, 0]\n",
            "C 5 D 5\t= [0, 1, 1, 1, 1, 1, 1, 1, 1, 1, 1, 1, 1, 1, 1, 1, 1, 0, 0, 0, 0, 0, 0, 0, 0, 0, 0, 0, 0, 0, 0, 0, 0, 0, 0, 0, 0, 0, 1, 1, 1, 0, 0, 0, 0, 1, 0, 1, 1, 0, 1, 1, 0, 0, 0, 1]\n",
            "C 6 D 6\t= [1, 1, 1, 1, 1, 1, 1, 1, 1, 1, 1, 1, 1, 1, 1, 0, 0, 0, 0, 0, 0, 0, 0, 0, 0, 0, 0, 1, 0, 0, 0, 0, 0, 0, 0, 0, 1, 1, 1, 0, 0, 0, 0, 1, 0, 1, 1, 0, 1, 1, 0, 0, 0, 1, 0, 0]\n",
            "C 7 D 7\t= [1, 1, 1, 1, 1, 1, 1, 1, 1, 1, 1, 1, 1, 0, 0, 0, 0, 0, 0, 0, 0, 0, 0, 0, 0, 1, 1, 1, 0, 0, 0, 0, 0, 0, 1, 1, 1, 0, 0, 0, 0, 1, 0, 1, 1, 0, 1, 1, 0, 0, 0, 1, 0, 0, 0, 0]\n",
            "C 8 D 8\t= [1, 1, 1, 1, 1, 1, 1, 1, 1, 1, 1, 0, 0, 0, 0, 0, 0, 0, 0, 0, 0, 0, 0, 1, 1, 1, 1, 1, 0, 0, 0, 0, 1, 1, 1, 0, 0, 0, 0, 1, 0, 1, 1, 0, 1, 1, 0, 0, 0, 1, 0, 0, 0, 0, 0, 0]\n",
            "C 9 D 9\t= [1, 1, 1, 1, 1, 1, 1, 1, 1, 1, 0, 0, 0, 0, 0, 0, 0, 0, 0, 0, 0, 0, 1, 1, 1, 1, 1, 1, 0, 0, 0, 1, 1, 1, 0, 0, 0, 0, 1, 0, 1, 1, 0, 1, 1, 0, 0, 0, 1, 0, 0, 0, 0, 0, 0, 0]\n",
            "C 10 D 10\t= [1, 1, 1, 1, 1, 1, 1, 1, 0, 0, 0, 0, 0, 0, 0, 0, 0, 0, 0, 0, 1, 1, 1, 1, 1, 1, 1, 1, 0, 1, 1, 1, 0, 0, 0, 0, 1, 0, 1, 1, 0, 1, 1, 0, 0, 0, 1, 0, 0, 0, 0, 0, 0, 0, 0, 0]\n",
            "C 11 D 11\t= [1, 1, 1, 1, 1, 1, 0, 0, 0, 0, 0, 0, 0, 0, 0, 0, 0, 0, 1, 1, 1, 1, 1, 1, 1, 1, 1, 1, 1, 1, 0, 0, 0, 0, 1, 0, 1, 1, 0, 1, 1, 0, 0, 0, 1, 0, 0, 0, 0, 0, 0, 0, 0, 0, 0, 1]\n",
            "C 12 D 12\t= [1, 1, 1, 1, 0, 0, 0, 0, 0, 0, 0, 0, 0, 0, 0, 0, 1, 1, 1, 1, 1, 1, 1, 1, 1, 1, 1, 1, 0, 0, 0, 0, 1, 0, 1, 1, 0, 1, 1, 0, 0, 0, 1, 0, 0, 0, 0, 0, 0, 0, 0, 0, 0, 1, 1, 1]\n",
            "C 13 D 13\t= [1, 1, 0, 0, 0, 0, 0, 0, 0, 0, 0, 0, 0, 0, 1, 1, 1, 1, 1, 1, 1, 1, 1, 1, 1, 1, 1, 1, 0, 0, 1, 0, 1, 1, 0, 1, 1, 0, 0, 0, 1, 0, 0, 0, 0, 0, 0, 0, 0, 0, 0, 1, 1, 1, 0, 0]\n",
            "C 14 D 14\t= [0, 0, 0, 0, 0, 0, 0, 0, 0, 0, 0, 0, 1, 1, 1, 1, 1, 1, 1, 1, 1, 1, 1, 1, 1, 1, 1, 1, 1, 0, 1, 1, 0, 1, 1, 0, 0, 0, 1, 0, 0, 0, 0, 0, 0, 0, 0, 0, 0, 1, 1, 1, 0, 0, 0, 0]\n",
            "C 15 D 15\t= [0, 0, 0, 0, 0, 0, 0, 0, 0, 0, 1, 1, 1, 1, 1, 1, 1, 1, 1, 1, 1, 1, 1, 1, 1, 1, 0, 0, 1, 1, 0, 1, 1, 0, 0, 0, 1, 0, 0, 0, 0, 0, 0, 0, 0, 0, 0, 1, 1, 1, 0, 0, 0, 0, 1, 0]\n",
            "C 16 D 16\t= [0, 0, 0, 0, 0, 0, 0, 0, 0, 1, 1, 1, 1, 1, 1, 1, 1, 1, 1, 1, 1, 1, 1, 1, 1, 0, 0, 0, 1, 0, 1, 1, 0, 0, 0, 1, 0, 0, 0, 0, 0, 0, 0, 0, 0, 0, 1, 1, 1, 0, 0, 0, 0, 1, 0, 1]\n"
          ]
        }
      ]
    },
    {
      "cell_type": "code",
      "source": [
        "Keys = [] #mutasi dengan tabel PC-2\n",
        "for sub_arr in CoDo:\n",
        "  arr_sub = []\n",
        "  for sub in sub_arr:\n",
        "    char = sub_arr[sub-1]\n",
        "    arr_sub.append(char)\n",
        "  Keys.append(arr_sub)"
      ],
      "metadata": {
        "id": "xmgjQ81vzezJ"
      },
      "execution_count": 91,
      "outputs": []
    },
    {
      "cell_type": "code",
      "source": [
        "num = 1 #hasil dari permutasi dengan tabel PC-2\n",
        "print(\"Key Hasil PC-2\")\n",
        "for arr in Keys:\n",
        "    print(\"K\",num,\"\\t= \",arr,sep='')\n",
        "    num+=1"
      ],
      "metadata": {
        "id": "F623QVjqz7lB",
        "outputId": "94c57133-4ae1-4540-ad7a-fe5ccdb301c6",
        "colab": {
          "base_uri": "https://localhost:8080/"
        }
      },
      "execution_count": 92,
      "outputs": [
        {
          "output_type": "stream",
          "name": "stdout",
          "text": [
            "Key Hasil PC-2\n",
            "K1\t= [1, 1, 1, 1, 1, 1, 1, 1, 0, 0, 0, 0, 0, 0, 0, 0, 0, 0, 0, 0, 0, 0, 0, 0, 1, 1, 1, 1, 1, 0, 0, 1, 1, 1, 0, 1, 1, 1, 1, 1, 1, 1, 1, 1, 1, 0, 0, 0, 1, 1, 1, 1, 0, 1, 0, 0]\n",
            "K2\t= [0, 0, 0, 0, 0, 0, 0, 0, 0, 0, 0, 0, 0, 0, 0, 0, 0, 0, 0, 0, 0, 0, 0, 0, 0, 0, 0, 0, 0, 0, 0, 0, 0, 0, 0, 0, 0, 0, 0, 0, 0, 0, 0, 0, 0, 0, 0, 0, 0, 0, 0, 0, 0, 0, 0, 0]\n",
            "K3\t= [1, 1, 1, 1, 1, 0, 0, 0, 0, 0, 0, 0, 0, 0, 0, 0, 0, 0, 0, 0, 0, 1, 1, 1, 1, 1, 1, 1, 1, 1, 1, 0, 1, 1, 1, 1, 1, 1, 1, 1, 1, 1, 0, 0, 0, 1, 1, 1, 1, 0, 1, 0, 0, 1, 0, 0]\n",
            "K4\t= [0, 0, 0, 0, 0, 0, 0, 0, 0, 0, 0, 0, 0, 0, 0, 0, 0, 0, 0, 0, 0, 0, 0, 0, 0, 0, 0, 0, 0, 0, 0, 0, 0, 0, 0, 0, 0, 0, 0, 0, 0, 0, 0, 0, 0, 0, 0, 0, 0, 0, 0, 0, 0, 0, 0, 0]\n",
            "K5\t= [1, 0, 0, 0, 0, 0, 0, 0, 0, 0, 0, 0, 0, 0, 0, 0, 0, 1, 1, 1, 1, 1, 1, 1, 1, 1, 1, 1, 1, 1, 1, 1, 1, 1, 1, 1, 1, 1, 0, 0, 0, 1, 1, 1, 1, 0, 1, 0, 0, 1, 0, 0, 1, 1, 1, 0]\n",
            "K6\t= [1, 1, 1, 1, 1, 1, 1, 1, 1, 1, 1, 1, 1, 1, 1, 0, 0, 0, 0, 0, 0, 0, 0, 0, 0, 0, 0, 1, 0, 0, 0, 0, 0, 0, 0, 0, 1, 1, 1, 0, 0, 0, 0, 1, 0, 1, 1, 0, 1, 1, 0, 0, 0, 1, 0, 0]\n",
            "K7\t= [1, 1, 1, 1, 1, 1, 1, 1, 1, 1, 1, 1, 1, 0, 0, 0, 0, 0, 0, 0, 0, 0, 0, 0, 0, 1, 1, 1, 0, 0, 0, 0, 0, 0, 1, 1, 1, 0, 0, 0, 0, 1, 0, 1, 1, 0, 1, 1, 0, 0, 0, 1, 0, 0, 0, 0]\n",
            "K8\t= [1, 1, 1, 1, 1, 1, 1, 1, 1, 1, 1, 0, 0, 0, 0, 0, 0, 0, 0, 0, 0, 0, 0, 1, 1, 1, 1, 1, 0, 0, 0, 0, 1, 1, 1, 0, 0, 0, 0, 1, 0, 1, 1, 0, 1, 1, 0, 0, 0, 1, 0, 0, 0, 0, 0, 0]\n",
            "K9\t= [1, 1, 1, 1, 1, 1, 1, 1, 1, 1, 0, 0, 0, 0, 0, 0, 0, 0, 0, 0, 0, 0, 1, 1, 1, 1, 1, 1, 0, 0, 0, 1, 1, 1, 0, 0, 0, 0, 1, 0, 1, 1, 0, 1, 1, 0, 0, 0, 1, 0, 0, 0, 0, 0, 0, 0]\n",
            "K10\t= [1, 1, 1, 1, 1, 1, 1, 1, 0, 0, 0, 0, 0, 0, 0, 0, 0, 0, 0, 0, 1, 1, 1, 1, 1, 1, 1, 1, 0, 1, 1, 1, 0, 0, 0, 0, 1, 0, 1, 1, 0, 1, 1, 0, 0, 0, 1, 0, 0, 0, 0, 0, 0, 0, 0, 0]\n",
            "K11\t= [1, 1, 1, 1, 1, 1, 1, 1, 1, 1, 1, 1, 1, 1, 1, 1, 1, 1, 1, 1, 1, 1, 1, 1, 1, 1, 1, 1, 1, 1, 1, 1, 1, 1, 1, 1, 1, 1, 1, 1, 1, 1, 1, 1, 1, 1, 1, 1, 1, 1, 1, 1, 1, 1, 1, 1]\n",
            "K12\t= [1, 1, 1, 1, 1, 1, 1, 1, 1, 1, 1, 1, 1, 1, 1, 1, 1, 1, 1, 1, 1, 1, 1, 1, 1, 1, 1, 1, 1, 1, 1, 1, 1, 1, 1, 1, 1, 1, 1, 1, 1, 1, 1, 1, 1, 1, 1, 1, 1, 1, 1, 1, 1, 1, 1, 1]\n",
            "K13\t= [1, 1, 0, 0, 0, 0, 0, 0, 0, 0, 0, 0, 0, 0, 1, 1, 1, 1, 1, 1, 1, 1, 1, 1, 1, 1, 1, 1, 0, 0, 1, 0, 1, 1, 0, 1, 1, 0, 0, 0, 1, 0, 0, 0, 0, 0, 0, 0, 0, 0, 0, 1, 1, 1, 0, 0]\n",
            "K14\t= [0, 0, 0, 0, 0, 0, 0, 0, 0, 0, 0, 0, 0, 0, 0, 0, 0, 0, 0, 0, 0, 0, 0, 0, 0, 0, 0, 0, 0, 0, 0, 0, 0, 0, 0, 0, 0, 0, 0, 0, 0, 0, 0, 0, 0, 0, 0, 0, 0, 0, 0, 0, 0, 0, 0, 0]\n",
            "K15\t= [0, 0, 0, 0, 0, 0, 0, 0, 0, 0, 0, 0, 0, 0, 0, 0, 0, 0, 0, 0, 0, 0, 0, 0, 0, 0, 0, 0, 0, 0, 0, 0, 0, 0, 0, 0, 0, 0, 0, 0, 0, 0, 0, 0, 0, 0, 0, 0, 0, 0, 0, 0, 0, 0, 0, 0]\n",
            "K16\t= [1, 1, 1, 1, 1, 1, 1, 1, 1, 0, 0, 0, 0, 0, 0, 0, 0, 0, 0, 0, 0, 0, 0, 0, 0, 1, 1, 1, 0, 1, 0, 0, 1, 1, 1, 0, 1, 1, 1, 1, 1, 1, 1, 1, 1, 1, 0, 0, 0, 1, 1, 1, 1, 0, 1, 0]\n"
          ]
        }
      ]
    },
    {
      "cell_type": "markdown",
      "source": [
        "**Fungsi Ekspansi R0**"
      ],
      "metadata": {
        "id": "6KSXtSP70VnI"
      }
    },
    {
      "cell_type": "code",
      "source": [
        "#tabel_ekspansi\n",
        "tabel_ekspansi = [\n",
        "    32,1,2,3,4,5,\n",
        "    4,5,6,7,8,9,\n",
        "    8,9,10,11,12,13,\n",
        "    12,13,14,15,16,17,\n",
        "    16,17,18,19,20,21,\n",
        "    20,21,22,23,24,25,\n",
        "    24,25,26,27,28,29,\n",
        "    28,29,30,31,32,1\n",
        "]"
      ],
      "metadata": {
        "id": "KJzZglXz0VSL"
      },
      "execution_count": 97,
      "outputs": []
    },
    {
      "cell_type": "code",
      "source": [
        "#fungsi Ekspansi R0\n",
        "def ekspansi(R0, tabel_ekspansi):\n",
        "  result = []\n",
        "  for j in tabel_ekspansi:\n",
        "    char = R0[j-1]\n",
        "    result.append(char)\n",
        "  return result"
      ],
      "metadata": {
        "id": "xjAA00AF0uzn"
      },
      "execution_count": 96,
      "outputs": []
    },
    {
      "cell_type": "code",
      "source": [
        "insversFinalMutation = [\n",
        "    40, 8, 48, 16, 56, 24, 64, 32,\n",
        "    39, 7, 47, 15, 55, 23, 63, 31,\n",
        "    38, 6, 46, 14, 54, 22, 62, 30,\n",
        "    37, 5, 45, 13, 53, 21, 61, 29,\n",
        "    36, 4, 44, 12, 52, 20, 60, 28,\n",
        "    35, 3, 43, 11, 51, 19, 59, 27,\n",
        "    34, 2, 42, 10, 50, 18, 58, 26,\n",
        "    33, 1, 41, 9, 49, 17, 57, 25\n",
        "]\n",
        "\n",
        "pBox = [\n",
        "    16,7,20,21,29,12,28,17,\n",
        "    1,15,23,26,5,18,31,10,\n",
        "    2,8,24,14,32,27,3,9,\n",
        "    19,13,30,6,22,11,4,25\n",
        "]\n"
      ],
      "metadata": {
        "id": "VH-HTOuwTvZH"
      },
      "execution_count": null,
      "outputs": []
    },
    {
      "cell_type": "code",
      "source": [
        "SboxesArray = [\n",
        "    [\n",
        "        [14, 4, 13, 1, 2, 15, 11, 8, 3, 10, 6, 12, 5, 9, 0, 7],\n",
        "        [0, 15, 7, 4, 14, 2, 13, 1, 10, 6, 12, 11, 9, 5, 3, 8],\n",
        "        [4, 1, 14, 8, 13, 6, 2, 11, 15, 12, 9, 7, 3, 10, 5, 0],\n",
        "        [15, 12, 8, 2, 4, 9, 1, 7, 5, 11, 3, 14, 10, 0, 6, 13],\n",
        "    ],\n",
        "\n",
        "    [\n",
        "        [15, 1, 8, 14, 6, 11, 3, 4, 9, 7, 2, 13, 12, 0, 5, 10],\n",
        "        [3, 13, 4, 7, 15, 2, 8, 14, 12, 0, 1, 10, 6, 9, 11, 5],\n",
        "        [0, 14, 7, 11, 10, 4, 13, 1, 5, 8, 12, 6, 9, 3, 2, 15],\n",
        "        [13, 8, 10, 1, 3, 15, 4, 2, 11, 6, 7, 12, 0, 5, 14, 9],\n",
        "    ],\n",
        "\n",
        "    [\n",
        "        [10, 0, 9, 14, 6, 3, 15, 5, 1, 13, 12, 7, 11, 4, 2, 8],\n",
        "        [13, 7, 0, 9, 3, 4, 6, 10, 2, 8, 5, 14, 12, 11, 15, 1],\n",
        "        [13, 6, 4, 9, 8, 15, 3, 0, 11, 1, 2, 12, 5, 10, 14, 7],\n",
        "        [1, 10, 13, 0, 6, 9, 8, 7, 4, 15, 14, 3, 11, 5, 2, 12],\n",
        "    ],\n",
        "\n",
        "    [\n",
        "        [7, 13, 14, 3, 0, 6, 9, 10, 1, 2, 8, 5, 11, 12, 4, 15],\n",
        "        [13, 8, 11, 5, 6, 15, 0, 3, 4, 7, 2, 12, 1, 10, 14, 9],\n",
        "        [10, 6, 9, 0, 12, 11, 7, 13, 15, 1, 3, 14, 5, 2, 8, 4],\n",
        "        [3, 15, 0, 6, 10, 1, 13, 8, 9, 4, 5, 11, 12, 7, 2, 14],\n",
        "    ],\n",
        "\n",
        "    [\n",
        "        [2, 12, 4, 1, 7, 10, 11, 6, 8, 5, 3, 15, 13, 0, 14, 9],\n",
        "        [14, 11, 2, 12, 4, 7, 13, 1, 5, 0, 15, 10, 3, 9, 8, 6],\n",
        "        [4, 2, 1, 11, 10, 13, 7, 8, 15, 9, 12, 5, 6, 3, 0, 14],\n",
        "        [11, 8, 12, 7, 1, 14, 2, 13, 6, 15, 0, 9, 10, 4, 5, 3],\n",
        "    ],\n",
        "\n",
        "    [\n",
        "        [12, 1, 10, 15, 9, 2, 6, 8, 0, 13, 3, 4, 14, 7, 5, 11],\n",
        "        [10, 15, 4, 2, 7, 12, 9, 5, 6, 1, 13, 14, 0, 11, 3, 8],\n",
        "        [9, 14, 15, 5, 2, 8, 12, 3, 7, 0, 4, 10, 1, 13, 11, 6],\n",
        "        [4, 3, 2, 12, 9, 5, 15, 10, 11, 14, 1, 7, 6, 0, 8, 13],\n",
        "    ],\n",
        "\n",
        "    [\n",
        "        [4, 11, 2, 14, 15, 0, 8, 13, 3, 12, 9, 7, 5, 10, 6, 1],\n",
        "        [13, 0, 11, 7, 4, 9, 1, 10, 14, 3, 5, 12, 2, 15, 8, 6],\n",
        "        [1, 4, 11, 13, 12, 3, 7, 14, 10, 15, 6, 8, 0, 5, 9, 2],\n",
        "        [6, 11, 13, 8, 1, 4, 10, 7, 9, 5, 0, 15, 14, 2, 3, 12],\n",
        "    ],\n",
        "\n",
        "    [\n",
        "        [13, 2, 8, 4, 6, 15, 11, 1, 10, 9, 3, 14, 5, 0, 12, 7],\n",
        "        [1, 15, 13, 8, 10, 3, 7, 4, 12, 5, 6, 11, 0, 14, 9, 2],\n",
        "        [7, 11, 4, 1, 9, 12, 14, 2, 0, 6, 10, 13, 15, 3, 5, 8],\n",
        "        [2, 1, 14, 7, 4, 10, 8, 13, 15, 12, 9, 0, 3, 5, 6, 11],\n",
        "    ]\n",
        "]"
      ],
      "metadata": {
        "id": "JSYXxnRuqvPV"
      },
      "execution_count": null,
      "outputs": []
    },
    {
      "cell_type": "code",
      "source": [
        "#fungsi mutasi\n"
      ],
      "metadata": {
        "id": "DuH1ibC2UxkS"
      },
      "execution_count": null,
      "outputs": []
    },
    {
      "cell_type": "code",
      "source": [
        "#fungsi untuk membagi\n",
        "def Split(list, n):\n",
        "    return [ list[i : i + n] for i in range(0, len(list), n)]"
      ],
      "metadata": {
        "id": "PtU8VGIwmMSz"
      },
      "execution_count": null,
      "outputs": []
    },
    {
      "cell_type": "code",
      "source": [
        "\n"
      ],
      "metadata": {
        "id": "zDrPPBkYhluU",
        "outputId": "9d6ab3b7-ec5d-4e79-a0d8-1cb8d0ec7674",
        "colab": {
          "base_uri": "https://localhost:8080/"
        }
      },
      "execution_count": null,
      "outputs": [
        {
          "output_type": "stream",
          "name": "stdout",
          "text": [
            "Key Hasil PC-2\n",
            "K1\t= [1, 1, 1, 0, 0, 0, 0, 0, 1, 0, 1, 1, 1, 1, 1, 0, 1, 1, 1, 0, 0, 1, 1, 0, 1, 0, 0, 1, 0, 0, 0, 0, 0, 0, 1, 0, 0, 1, 0, 0, 0, 0, 0, 0, 0, 1, 0, 1]\n",
            "K2\t= [1, 1, 1, 1, 0, 0, 0, 0, 1, 0, 1, 1, 0, 1, 1, 0, 0, 1, 1, 1, 0, 1, 1, 0, 0, 0, 1, 1, 0, 0, 0, 1, 0, 0, 0, 1, 0, 0, 0, 0, 1, 0, 0, 1, 0, 1, 0, 1]\n",
            "K3\t= [1, 1, 1, 0, 0, 1, 0, 0, 1, 1, 0, 1, 1, 1, 1, 0, 0, 1, 1, 1, 0, 1, 1, 0, 0, 0, 0, 0, 0, 0, 1, 1, 0, 0, 1, 0, 0, 0, 0, 0, 1, 0, 1, 0, 0, 0, 1, 1]\n",
            "K4\t= [1, 1, 1, 0, 0, 1, 1, 0, 1, 1, 1, 1, 0, 0, 1, 1, 0, 1, 1, 1, 0, 1, 1, 0, 0, 0, 1, 0, 0, 1, 1, 0, 0, 0, 1, 0, 1, 0, 0, 1, 0, 0, 0, 0, 0, 1, 0, 1]\n",
            "K5\t= [1, 0, 1, 0, 1, 1, 1, 0, 1, 1, 0, 1, 0, 1, 1, 1, 0, 1, 1, 1, 0, 0, 1, 1, 0, 0, 1, 0, 0, 0, 1, 0, 0, 0, 0, 0, 0, 0, 0, 1, 1, 1, 0, 1, 0, 1, 1, 0]\n",
            "K6\t= [1, 1, 1, 0, 1, 1, 1, 1, 0, 1, 0, 1, 0, 0, 1, 1, 0, 1, 1, 1, 1, 0, 1, 1, 0, 1, 0, 0, 0, 1, 0, 1, 1, 0, 0, 0, 0, 0, 0, 1, 1, 0, 0, 0, 0, 0, 1, 1]\n",
            "K7\t= [1, 0, 1, 0, 1, 1, 1, 1, 1, 1, 0, 1, 0, 0, 1, 1, 1, 1, 0, 1, 1, 0, 0, 1, 0, 1, 0, 0, 0, 1, 1, 0, 0, 0, 0, 0, 0, 1, 0, 0, 0, 1, 0, 0, 1, 0, 0, 1]\n",
            "K8\t= [0, 0, 0, 1, 1, 1, 1, 1, 0, 1, 0, 1, 1, 0, 1, 1, 1, 1, 0, 1, 1, 0, 1, 1, 0, 1, 0, 0, 1, 0, 1, 0, 1, 0, 0, 1, 0, 0, 0, 1, 0, 1, 0, 0, 1, 1, 0, 0]\n",
            "K9\t= [0, 0, 1, 1, 1, 1, 1, 1, 0, 1, 0, 0, 1, 0, 1, 1, 1, 1, 0, 1, 1, 0, 0, 1, 0, 1, 0, 0, 1, 1, 0, 0, 1, 0, 0, 0, 0, 1, 0, 0, 0, 0, 1, 0, 1, 0, 1, 0]\n",
            "K10\t= [0, 0, 0, 1, 1, 1, 1, 1, 0, 1, 1, 1, 1, 0, 0, 1, 1, 0, 0, 1, 1, 1, 0, 1, 0, 0, 0, 0, 1, 1, 0, 0, 0, 1, 1, 1, 1, 1, 0, 0, 0, 1, 0, 0, 1, 0, 0, 0]\n",
            "K11\t= [0, 0, 0, 1, 1, 1, 1, 1, 0, 0, 1, 0, 1, 1, 0, 1, 1, 1, 0, 1, 1, 1, 0, 1, 0, 0, 1, 0, 1, 0, 0, 0, 1, 1, 0, 1, 0, 0, 0, 0, 0, 1, 1, 1, 0, 0, 0, 0]\n",
            "K12\t= [0, 1, 0, 1, 1, 1, 1, 1, 0, 1, 1, 0, 1, 1, 0, 0, 1, 0, 1, 0, 1, 1, 0, 1, 1, 0, 0, 0, 0, 0, 0, 1, 1, 1, 0, 0, 1, 1, 0, 0, 0, 0, 1, 0, 0, 0, 1, 0]\n",
            "K13\t= [1, 1, 0, 1, 1, 0, 1, 1, 1, 0, 1, 0, 1, 1, 0, 1, 1, 0, 1, 0, 1, 1, 0, 0, 1, 0, 0, 0, 1, 1, 0, 0, 0, 0, 0, 0, 1, 1, 1, 0, 0, 0, 0, 1, 0, 0, 0, 0]\n",
            "K14\t= [1, 1, 0, 1, 1, 0, 0, 0, 1, 0, 1, 0, 1, 1, 1, 0, 1, 0, 1, 0, 1, 1, 1, 1, 1, 0, 0, 1, 1, 0, 0, 1, 0, 1, 0, 0, 0, 0, 1, 0, 0, 1, 0, 1, 0, 1, 0, 0]\n",
            "K15\t= [1, 1, 1, 1, 0, 0, 0, 1, 1, 0, 1, 1, 1, 1, 1, 0, 0, 0, 1, 0, 1, 1, 1, 0, 0, 0, 0, 1, 0, 0, 0, 1, 1, 1, 0, 0, 0, 0, 1, 0, 1, 0, 0, 0, 0, 0, 0, 0]\n",
            "K16\t= [1, 1, 1, 1, 0, 0, 0, 0, 1, 0, 1, 1, 1, 1, 1, 0, 1, 0, 1, 0, 1, 1, 1, 0, 0, 0, 0, 1, 0, 0, 0, 0, 0, 0, 1, 0, 1, 0, 1, 0, 1, 0, 0, 1, 1, 1, 0, 0]\n"
          ]
        }
      ]
    },
    {
      "cell_type": "code",
      "source": [
        "#fungsi xor\n",
        "def xor(list1, list2):\n",
        "    return [a ^ b for a, b in zip(list1,list2)]\n"
      ],
      "metadata": {
        "id": "Q_Se0TTjYkUx"
      },
      "execution_count": null,
      "outputs": []
    },
    {
      "cell_type": "code",
      "source": [
        "#fungsi untuk subtitusi dengan SBOX\n",
        "def SboxSubstitution(bitArray):\n",
        "\n",
        "    blocks = Split(bitArray,6)\n",
        "    result = []\n",
        "\n",
        "    for i in range(len(blocks)):\n",
        "        block = blocks[i]\n",
        "        row = int( str(block[0]) + str(block[5]), 2 )\n",
        "        column = int(''.join([str(x) for x in block[1:-1]]), 2)\n",
        "        sboxValue = SboxesArray[i][row][column]\n",
        "        binVal = binValue(sboxValue, 4)\n",
        "        result += [int(bit) for bit in binVal]\n",
        "    return result"
      ],
      "metadata": {
        "id": "QKZNrm9fGHNx"
      },
      "execution_count": null,
      "outputs": []
    },
    {
      "cell_type": "code",
      "source": [
        "#digunakan untuk merubah menjadi binner, tapi beserta value nya\n",
        "def binValue(val, bitSize):\n",
        "    binVal = bin(val)[2:] if isinstance(val, int) else bin(ord(val))[2:]\n",
        "    while len(binVal) < bitSize:\n",
        "        binVal = \"0\" + binVal\n",
        "    return binVal\n"
      ],
      "metadata": {
        "id": "SGDDQvxSmiIF"
      },
      "execution_count": null,
      "outputs": []
    },
    {
      "cell_type": "code",
      "source": [
        "def DESEnkripsi(text):\n",
        "  return DES(text,True)\n",
        "\n",
        "def DESDekripsi(text):\n",
        "  return DES(text,False)\n",
        "\n",
        "def DES(bin_text, isEncrypt):\n",
        "  result = []\n",
        "  LeftBlock, RightBlock = Split(bin_text, 32)\n",
        "  temp = None\n",
        "  for i in range(16):\n",
        "    expandedRightBlock = mutation(RightBlock, tabel_ekspansi)\n",
        "    if isEncrypt == True:\n",
        "      temp = xor(Keys[i], expandedRightBlock)\n",
        "    elif isEncrypt == False:\n",
        "      temp = xor(Keys[15-i], expandedRightBlock)\n",
        "    temp = SboxSubstitution(temp)\n",
        "    temp = mutation(temp,pBox)\n",
        "    temp = xor(LeftBlock,temp)\n",
        "\n",
        "    LeftBlock = RightBlock\n",
        "    RightBlock = temp\n",
        "  result = mutation(RightBlock + LeftBlock, insversFinalMutation)\n",
        "  return result\n"
      ],
      "metadata": {
        "id": "OMc4J32SK-O8"
      },
      "execution_count": null,
      "outputs": []
    },
    {
      "cell_type": "code",
      "source": [
        "#mengubah array bit menjadi String(text)\n",
        "def bitArrayToString(array):\n",
        "    byteChunks = Split(array, 8)\n",
        "    stringBytesList = []\n",
        "    stringResult = ''\n",
        "    for byte in byteChunks:\n",
        "        bitsList = []\n",
        "        for bit in byte:\n",
        "            bitsList += str(bit)\n",
        "        stringBytesList.append(''.join(bitsList))\n",
        "    result = ''.join([chr(int(stringByte, 2)) for stringByte in stringBytesList])\n",
        "    return result"
      ],
      "metadata": {
        "id": "-CfaQboJrUK6"
      },
      "execution_count": null,
      "outputs": []
    },
    {
      "cell_type": "code",
      "source": [
        "chipertext = DESEnkripsi(IP)\n",
        "print(\"chipertext = \",bitArrayToString(chipertext))\n",
        "\n",
        "mutasi_dekrip = mutation(chipertext,array_permutasi_awal)\n",
        "\n",
        "hasil_dekrip = bitArrayToString(DESDekripsi(mutasi_dekrip))\n",
        "\n",
        "print(\"plaintext dekripsi = \", hasil_dekrip)\n",
        "\n"
      ],
      "metadata": {
        "colab": {
          "base_uri": "https://localhost:8080/"
        },
        "id": "0SH-n5xhgVdr",
        "outputId": "ff08a2fa-4b0e-4e1c-e5c8-86948ee606b2"
      },
      "execution_count": null,
      "outputs": [
        {
          "output_type": "stream",
          "name": "stdout",
          "text": [
            "chipertext =  ^±m\u0013\u0005ÄÁI\n",
            "plaintext dekripsi =  semangat\n"
          ]
        }
      ]
    }
  ],
  "metadata": {
    "colab": {
      "provenance": [],
      "authorship_tag": "ABX9TyNcDeqqMuWxutss3wjafKYI",
      "include_colab_link": true
    },
    "kernelspec": {
      "display_name": "Python 3",
      "name": "python3"
    },
    "language_info": {
      "name": "python"
    }
  },
  "nbformat": 4,
  "nbformat_minor": 0
}