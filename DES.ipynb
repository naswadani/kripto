{
  "cells": [
    {
      "cell_type": "markdown",
      "metadata": {
        "id": "view-in-github",
        "colab_type": "text"
      },
      "source": [
        "<a href=\"https://colab.research.google.com/github/naswadani/kripto/blob/main/DES.ipynb\" target=\"_parent\"><img src=\"https://colab.research.google.com/assets/colab-badge.svg\" alt=\"Open In Colab\"/></a>"
      ]
    },
    {
      "cell_type": "code",
      "execution_count": 4,
      "metadata": {
        "colab": {
          "base_uri": "https://localhost:8080/"
        },
        "id": "ROmuhwPFTEoc",
        "outputId": "dee1e73b-c091-4e3b-b4c8-7b37725f5d5a"
      },
      "outputs": [
        {
          "output_type": "stream",
          "name": "stdout",
          "text": [
            "Masukan PlainText : COMPUTER\n",
            "Bentuk ASCII\n",
            "[67, 79, 77, 80, 85, 84, 69, 82]\n",
            "Bentuk Binary\n",
            "['01000011', '01001111', '01001101', '01010000', '01010101', '01010100', '01000101', '01010010']\n"
          ]
        }
      ],
      "source": [
        "plain_text = input(\"Masukan PlainText : \")\n",
        "ascii_list = [ord(char) for char in plain_text]\n",
        "binary_list = [format(angka, '08b')for angka in ascii_list]\n",
        "print(\"Bentuk ASCII\")\n",
        "print(ascii_list)\n",
        "print(\"Bentuk Binary\")\n",
        "print(binary_list)"
      ]
    },
    {
      "cell_type": "code",
      "execution_count": 9,
      "metadata": {
        "colab": {
          "base_uri": "https://localhost:8080/"
        },
        "id": "yiki1cDTUPf8",
        "outputId": "746c81ff-fd3a-4aa9-d373-e7c376949f67"
      },
      "outputs": [
        {
          "output_type": "stream",
          "name": "stdout",
          "text": [
            "Urutan bit Plaintext awal : \n",
            "[1, 2, 3, 4, 5, 6, 7, 8]\n",
            "[9, 10, 11, 12, 13, 14, 15, 16]\n",
            "[17, 18, 19, 20, 21, 22, 23, 24]\n",
            "[25, 26, 27, 28, 29, 30, 31, 32]\n",
            "[33, 34, 35, 36, 37, 38, 39, 40]\n",
            "[41, 42, 43, 44, 45, 46, 47, 48]\n",
            "[49, 50, 51, 52, 53, 54, 55, 56]\n",
            "[57, 58, 59, 60, 61, 62, 63, 64]\n"
          ]
        }
      ],
      "source": [
        "array_plaintext_awal = []\n",
        "counter = 1\n",
        "for i in range(8):\n",
        "  new_array = []\n",
        "  for i in range(8):\n",
        "    new_array.append(counter)\n",
        "    counter+=1\n",
        "  array_plaintext_awal.append(new_array)\n",
        "print(\"Urutan bit Plaintext awal : \")\n",
        "for i in range(len(array_plaintext_awal)):\n",
        "  print(array_plaintext_awal[i])"
      ]
    },
    {
      "cell_type": "code",
      "source": [
        "array_permutasi_awal = []\n",
        "def acak_plaintext_array(pembagi):\n",
        "  con = 0\n",
        "  for i in range(len(array_plaintext_awal)):\n",
        "    con += 1\n",
        "    arr = []\n",
        "    for j in range(7,-1,-1):\n",
        "      if(con % 2 == pembagi):\n",
        "        arr.append(array_plaintext_awal[j][i])\n",
        "      else:\n",
        "        continue\n",
        "    if(con % 2 == pembagi):\n",
        "      array_permutasi_awal.append(arr)"
      ],
      "metadata": {
        "id": "Owc6qXk51cz2"
      },
      "execution_count": 10,
      "outputs": []
    },
    {
      "cell_type": "code",
      "source": [
        "for i in range(2):\n",
        "  acak_plaintext_array(i)\n",
        "\n",
        "print(\"Urutan bit Permutasi awal : \")\n",
        "for i in range(len(array_permutasi_awal)):\n",
        "  print(array_permutasi_awal[i])"
      ],
      "metadata": {
        "colab": {
          "base_uri": "https://localhost:8080/"
        },
        "id": "R3aGDSx12qlI",
        "outputId": "d6e2921b-0067-4056-f0b1-57af22e07cfe"
      },
      "execution_count": 11,
      "outputs": [
        {
          "output_type": "stream",
          "name": "stdout",
          "text": [
            "Urutan bit Permutasi awal : \n",
            "[58, 50, 42, 34, 26, 18, 10, 2]\n",
            "[60, 52, 44, 36, 28, 20, 12, 4]\n",
            "[62, 54, 46, 38, 30, 22, 14, 6]\n",
            "[64, 56, 48, 40, 32, 24, 16, 8]\n",
            "[57, 49, 41, 33, 25, 17, 9, 1]\n",
            "[59, 51, 43, 35, 27, 19, 11, 3]\n",
            "[61, 53, 45, 37, 29, 21, 13, 5]\n",
            "[63, 55, 47, 39, 31, 23, 15, 7]\n"
          ]
        }
      ]
    },
    {
      "cell_type": "code",
      "source": [
        "binary_join = ''.join(binary_list)\n",
        "print(\"P  : \",binary_join)\n",
        "\n",
        "array_encoding_IP = []\n",
        "\n",
        "for sub_arr in array_permutasi_awal:\n",
        "  for angka in sub_arr:\n",
        "      if angka <= len(binary_join):\n",
        "        character = binary_join[angka-1]\n",
        "        array_encoding_IP.append(character)\n",
        "\n",
        "IP = ''.join(array_encoding_IP)\n",
        "print(\"IP : \",IP)\n",
        "Lo = IP[:32]\n",
        "Ro = IP[32:]\n",
        "print(\"Lo = \",Lo)\n",
        "print(\"Ro = \",Ro)"
      ],
      "metadata": {
        "id": "wJwIm1ZiE_dZ",
        "colab": {
          "base_uri": "https://localhost:8080/"
        },
        "outputId": "b69f9e27-cb67-4283-9995-277d1a024702"
      },
      "execution_count": 36,
      "outputs": [
        {
          "output_type": "stream",
          "name": "stdout",
          "text": [
            "P  :  0100001101001111010011010101000001010101010101000100010101010010\n",
            "IP :  1111111110111000011101100101011100000000000000000000011010000011\n",
            "Lo =  11111111101110000111011001010111\n",
            "Ro =  00000000000000000000011010000011\n"
          ]
        }
      ]
    }
  ],
  "metadata": {
    "colab": {
      "provenance": [],
      "authorship_tag": "ABX9TyNbj3jjt1LgTfbMOKhZ/pMT",
      "include_colab_link": true
    },
    "kernelspec": {
      "display_name": "Python 3",
      "name": "python3"
    },
    "language_info": {
      "name": "python"
    }
  },
  "nbformat": 4,
  "nbformat_minor": 0
}