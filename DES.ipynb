{
  "cells": [
    {
      "cell_type": "markdown",
      "metadata": {
        "id": "view-in-github",
        "colab_type": "text"
      },
      "source": [
        "<a href=\"https://colab.research.google.com/github/naswadani/kripto/blob/main/DES.ipynb\" target=\"_parent\"><img src=\"https://colab.research.google.com/assets/colab-badge.svg\" alt=\"Open In Colab\"/></a>"
      ]
    },
    {
      "cell_type": "code",
      "execution_count": null,
      "metadata": {
        "colab": {
          "base_uri": "https://localhost:8080/"
        },
        "id": "ROmuhwPFTEoc",
        "outputId": "65c7ba2c-7070-4f1f-9c06-5235148d08ab"
      },
      "outputs": [
        {
          "name": "stdout",
          "output_type": "stream",
          "text": [
            "Massukan PlainText : COMPUTER\n",
            "67\n",
            "79\n",
            "77\n",
            "80\n",
            "85\n",
            "84\n",
            "69\n",
            "82\n"
          ]
        }
      ],
      "source": [
        "plain_text = input(\"Masukan PlainText : \")\n",
        "ascii_list = [ord(char) for char in plain_text]\n",
        "for kode_ascii in ascii_list:\n",
        "    print(kode_ascii)"
      ]
    },
    {
      "cell_type": "code",
      "execution_count": 142,
      "metadata": {
        "colab": {
          "base_uri": "https://localhost:8080/"
        },
        "id": "yiki1cDTUPf8",
        "outputId": "13820ff3-b96c-4b78-a278-6ae380bd74f4"
      },
      "outputs": [
        {
          "output_type": "stream",
          "name": "stdout",
          "text": [
            "Urutan bit Plaintext awal : \n",
            "[1, 2, 3, 4, 5, 6, 7, 8]\n",
            "[9, 10, 11, 12, 13, 14, 15, 16]\n",
            "[17, 18, 19, 20, 21, 22, 23, 24]\n",
            "[25, 26, 27, 28, 29, 30, 31, 32]\n",
            "[33, 34, 35, 36, 37, 38, 39, 40]\n",
            "[41, 42, 43, 44, 45, 46, 47, 48]\n",
            "[49, 50, 51, 52, 53, 54, 55, 56]\n",
            "[57, 58, 59, 60, 61, 62, 63, 64]\n"
          ]
        }
      ],
      "source": [
        "array_plaintext_awal = []\n",
        "counter = 1\n",
        "for i in range(8):\n",
        "  new_array = []\n",
        "  for i in range(8):\n",
        "    new_array.append(counter)\n",
        "    counter+=1\n",
        "  array_plaintext_awal.append(new_array)\n",
        "print(\"Urutan bit Plaintext awal : \")\n",
        "for i in range(len(array_plaintext_awal)):\n",
        "  print(array_plaintext_awal[i])"
      ]
    },
    {
      "cell_type": "code",
      "source": [
        "array_permutasi_awal = []\n",
        "def acak_plaintext_array(pembagi):\n",
        "  con = 0\n",
        "  for i in range(len(array_plaintext_awal)):\n",
        "    con += 1\n",
        "    arr = []\n",
        "    for j in range(7,-1,-1):\n",
        "      if(con % 2 == pembagi):\n",
        "        arr.append(array_plaintext_awal[j][i])\n",
        "      else:\n",
        "        continue\n",
        "    if(con % 2 == pembagi):\n",
        "      array_permutasi_awal.append(arr)"
      ],
      "metadata": {
        "id": "Owc6qXk51cz2"
      },
      "execution_count": 166,
      "outputs": []
    },
    {
      "cell_type": "code",
      "source": [
        "for i in range(2):\n",
        "  acak_plaintext_array(i)\n",
        "\n",
        "print(\"Urutan bit Permutasi awal : \")\n",
        "for i in range(len(array_permutasi_awal)):\n",
        "  print(array_permutasi_awal[i])"
      ],
      "metadata": {
        "colab": {
          "base_uri": "https://localhost:8080/"
        },
        "id": "R3aGDSx12qlI",
        "outputId": "25fd296d-c74a-4403-be05-9b716a7b98b2"
      },
      "execution_count": 167,
      "outputs": [
        {
          "output_type": "stream",
          "name": "stdout",
          "text": [
            "Urutan bit Permutasi awal : \n",
            "[58, 50, 42, 34, 26, 18, 10, 2]\n",
            "[60, 52, 44, 36, 28, 20, 12, 4]\n",
            "[62, 54, 46, 38, 30, 22, 14, 6]\n",
            "[64, 56, 48, 40, 32, 24, 16, 8]\n",
            "[57, 49, 41, 33, 25, 17, 9, 1]\n",
            "[59, 51, 43, 35, 27, 19, 11, 3]\n",
            "[61, 53, 45, 37, 29, 21, 13, 5]\n",
            "[63, 55, 47, 39, 31, 23, 15, 7]\n"
          ]
        }
      ]
    }
  ],
  "metadata": {
    "colab": {
      "provenance": [],
      "authorship_tag": "ABX9TyNfnD4s/oY2EyWrIMhhUaRg",
      "include_colab_link": true
    },
    "kernelspec": {
      "display_name": "Python 3",
      "name": "python3"
    },
    "language_info": {
      "name": "python"
    }
  },
  "nbformat": 4,
  "nbformat_minor": 0
}