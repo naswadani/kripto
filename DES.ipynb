{
  "cells": [
    {
      "cell_type": "markdown",
      "metadata": {
        "id": "view-in-github",
        "colab_type": "text"
      },
      "source": [
        "<a href=\"https://colab.research.google.com/github/naswadani/kripto/blob/main/DES.ipynb\" target=\"_parent\"><img src=\"https://colab.research.google.com/assets/colab-badge.svg\" alt=\"Open In Colab\"/></a>"
      ]
    },
    {
      "cell_type": "code",
      "execution_count": 16,
      "metadata": {
        "colab": {
          "base_uri": "https://localhost:8080/"
        },
        "id": "ROmuhwPFTEoc",
        "outputId": "fd6bfb78-cfbd-42e6-abe9-a9a40dfe12eb"
      },
      "outputs": [
        {
          "output_type": "stream",
          "name": "stdout",
          "text": [
            "Masukan PlainText = COMPUTER\n",
            "Bentuk Hex Key =  f175358a52f5f305\n",
            "Bentuk ASCII   =  [67, 79, 77, 80, 85, 84, 69, 82]\n",
            "Bentuk Binary  =  ['01000011', '01001111', '01001101', '01010000', '01010101', '01010100', '01000101', '01010010']\n"
          ]
        }
      ],
      "source": [
        "import secrets\n",
        "\n",
        "plain_text = input(\"Masukan PlainText = \")\n",
        "ascii_list = [ord(char) for char in plain_text]\n",
        "binary_list = [format(angka, '08b')for angka in ascii_list]\n",
        "hex_key = secrets.token_hex(8)\n",
        "print(\"Bentuk Hex Key = \",hex_key )\n",
        "print(\"Bentuk ASCII   = \",ascii_list)\n",
        "print(\"Bentuk Binary  = \",binary_list)"
      ]
    },
    {
      "cell_type": "code",
      "execution_count": null,
      "metadata": {
        "colab": {
          "base_uri": "https://localhost:8080/"
        },
        "id": "yiki1cDTUPf8",
        "outputId": "746c81ff-fd3a-4aa9-d373-e7c376949f67"
      },
      "outputs": [
        {
          "output_type": "stream",
          "name": "stdout",
          "text": [
            "Urutan bit Plaintext awal : \n",
            "[1, 2, 3, 4, 5, 6, 7, 8]\n",
            "[9, 10, 11, 12, 13, 14, 15, 16]\n",
            "[17, 18, 19, 20, 21, 22, 23, 24]\n",
            "[25, 26, 27, 28, 29, 30, 31, 32]\n",
            "[33, 34, 35, 36, 37, 38, 39, 40]\n",
            "[41, 42, 43, 44, 45, 46, 47, 48]\n",
            "[49, 50, 51, 52, 53, 54, 55, 56]\n",
            "[57, 58, 59, 60, 61, 62, 63, 64]\n"
          ]
        }
      ],
      "source": [
        "array_plaintext_awal = []\n",
        "counter = 1\n",
        "for i in range(8):\n",
        "  new_array = []\n",
        "  for i in range(8):\n",
        "    new_array.append(counter)\n",
        "    counter+=1\n",
        "  array_plaintext_awal.append(new_array)\n",
        "print(\"Urutan bit Plaintext awal : \")\n",
        "for i in range(len(array_plaintext_awal)):\n",
        "  print(array_plaintext_awal[i])"
      ]
    },
    {
      "cell_type": "code",
      "source": [
        "array_permutasi_awal = []\n",
        "def acak_plaintext_array(pembagi):\n",
        "  con = 0\n",
        "  for i in range(len(array_plaintext_awal)):\n",
        "    con += 1\n",
        "    arr = []\n",
        "    for j in range(7,-1,-1):\n",
        "      if(con % 2 == pembagi):\n",
        "        arr.append(array_plaintext_awal[j][i])\n",
        "      else:\n",
        "        continue\n",
        "    if(con % 2 == pembagi):\n",
        "      array_permutasi_awal.append(arr)"
      ],
      "metadata": {
        "id": "Owc6qXk51cz2"
      },
      "execution_count": null,
      "outputs": []
    },
    {
      "cell_type": "code",
      "source": [
        "for i in range(2):\n",
        "  acak_plaintext_array(i)\n",
        "\n",
        "print(\"Urutan bit Permutasi awal : \")\n",
        "for i in range(len(array_permutasi_awal)):\n",
        "  print(array_permutasi_awal[i])"
      ],
      "metadata": {
        "colab": {
          "base_uri": "https://localhost:8080/"
        },
        "id": "R3aGDSx12qlI",
        "outputId": "d6e2921b-0067-4056-f0b1-57af22e07cfe"
      },
      "execution_count": null,
      "outputs": [
        {
          "output_type": "stream",
          "name": "stdout",
          "text": [
            "Urutan bit Permutasi awal : \n",
            "[58, 50, 42, 34, 26, 18, 10, 2]\n",
            "[60, 52, 44, 36, 28, 20, 12, 4]\n",
            "[62, 54, 46, 38, 30, 22, 14, 6]\n",
            "[64, 56, 48, 40, 32, 24, 16, 8]\n",
            "[57, 49, 41, 33, 25, 17, 9, 1]\n",
            "[59, 51, 43, 35, 27, 19, 11, 3]\n",
            "[61, 53, 45, 37, 29, 21, 13, 5]\n",
            "[63, 55, 47, 39, 31, 23, 15, 7]\n"
          ]
        }
      ]
    },
    {
      "cell_type": "code",
      "source": [
        "binary_join = ''.join(binary_list)\n",
        "print(\"P  : \",binary_join)\n",
        "\n",
        "array_encoding_IP = []\n",
        "\n",
        "for sub_arr in array_permutasi_awal:\n",
        "  for angka in sub_arr:\n",
        "      if angka <= len(binary_join):\n",
        "        character = binary_join[angka-1]\n",
        "        array_encoding_IP.append(character)\n",
        "\n",
        "IP = ''.join(array_encoding_IP)\n",
        "print(\"IP : \",IP)\n",
        "Lo = IP[:32]\n",
        "Ro = IP[32:]\n",
        "print(\"Lo = \",Lo)\n",
        "print(\"Ro = \",Ro)"
      ],
      "metadata": {
        "id": "wJwIm1ZiE_dZ",
        "colab": {
          "base_uri": "https://localhost:8080/"
        },
        "outputId": "b69f9e27-cb67-4283-9995-277d1a024702"
      },
      "execution_count": null,
      "outputs": [
        {
          "output_type": "stream",
          "name": "stdout",
          "text": [
            "P  :  0100001101001111010011010101000001010101010101000100010101010010\n",
            "IP :  1111111110111000011101100101011100000000000000000000011010000011\n",
            "Lo =  11111111101110000111011001010111\n",
            "Ro =  00000000000000000000011010000011\n"
          ]
        }
      ]
    },
    {
      "cell_type": "code",
      "source": [
        "tabelpc1=[[57,49,41,33,25,17,9],\n",
        "          [1,58,50,42,34,26,18],\n",
        "          [10,2,59,51,43,35,27],\n",
        "          [19,11,3,60,52,44,36],\n",
        "          [63,55,47,39,31,23,15],\n",
        "          [7,62,54,46,38,30,22],\n",
        "          [14,6,61,53,45,37,29],\n",
        "          [21,13,5,28,20,12,4]]\n",
        "arr_key= []\n",
        "for i in range(8):\n",
        "  sub_arr = hex_key[i * 2 : (i + 1)*2]\n",
        "  arr_key.append(sub_arr)\n",
        "print(arr_key)"
      ],
      "metadata": {
        "id": "kBqabELCcWNQ",
        "colab": {
          "base_uri": "https://localhost:8080/"
        },
        "outputId": "0fa268e4-a235-4e21-b18c-d03f5d68eb83"
      },
      "execution_count": 22,
      "outputs": [
        {
          "output_type": "stream",
          "name": "stdout",
          "text": [
            "['f1', '75', '35', '8a', '52', 'f5', 'f3', '05']\n"
          ]
        }
      ]
    },
    {
      "cell_type": "code",
      "source": [
        "def heksadesimal_ke_biner(heks_string):\n",
        "    panjang_biner = len(heks_string) * 4\n",
        "    biner_string = bin(int(heks_string, 16))[2:].zfill(panjang_biner)\n",
        "    return biner_string"
      ],
      "metadata": {
        "id": "9eQJsEtM6W7y"
      },
      "execution_count": 28,
      "outputs": []
    },
    {
      "cell_type": "code",
      "source": [
        "arr_key_biner = []\n",
        "for hex_string in arr_key:\n",
        "  biner_str = heksadesimal_ke_biner(hex_string)\n",
        "  arr_key_biner.append(biner_str)\n",
        "\n",
        "print(arr_key_biner)"
      ],
      "metadata": {
        "colab": {
          "base_uri": "https://localhost:8080/"
        },
        "id": "YMYsBU4o49M7",
        "outputId": "885725d1-5231-4993-9218-c0970c8dcb2f"
      },
      "execution_count": 30,
      "outputs": [
        {
          "output_type": "stream",
          "name": "stdout",
          "text": [
            "['11110001', '01110101', '00110101', '10001010', '01010010', '11110101', '11110011', '00000101']\n"
          ]
        }
      ]
    },
    {
      "cell_type": "code",
      "source": [
        "string_key_biner = ''.join(arr_key_biner)\n",
        "array_permutasi_PC1 = []\n",
        "for i in tabelpc1:\n",
        "  for j in i:\n",
        "      if j <= len(string_key_biner):\n",
        "        chara = string_key_biner[j-1]\n",
        "        array_permutasi_PC1.append(chara)\n",
        "\n",
        "Kplus = ''.join(array_permutasi_PC1)\n",
        "print(\"K+ = \",Kplus)\n",
        "Str_Co = Kplus[:28]\n",
        "Str_Do = Kplus[28:]\n",
        "print(\"Co = \",Str_Co)\n",
        "print(\"Do = \",Str_Do)"
      ],
      "metadata": {
        "id": "rOR3ddWmRqNC",
        "outputId": "cf110a0a-60ae-4de6-9bd9-d1b40454950e",
        "colab": {
          "base_uri": "https://localhost:8080/"
        }
      },
      "execution_count": 46,
      "outputs": [
        {
          "output_type": "stream",
          "name": "stdout",
          "text": [
            "K+ =  01101001011100110110011101110101100010100110000010000111\n",
            "Co =  0110100101110011011001110111\n",
            "Do =  0101100010100110000010000111\n"
          ]
        }
      ]
    },
    {
      "cell_type": "code",
      "source": [
        "tabelWrapping = [1,1,2,2,2,2,2,2,1,2,2,2,2,2,2,1]\n",
        "Co = []\n",
        "Do = []\n",
        "for char in Str_Co:\n",
        "  Co.append(char)\n",
        "for char in Str_Do:\n",
        "  Do.append(char)"
      ],
      "metadata": {
        "id": "BVPydO29Wt8m"
      },
      "execution_count": 52,
      "outputs": []
    },
    {
      "cell_type": "code",
      "source": [
        "C = []\n",
        "D = []\n",
        "nomer = 1\n",
        "\n",
        "print(\"C0\",\" = \",Co,sep='')\n",
        "print(\"D0\",\" = \",Do,sep='')\n",
        "print(\"\")\n",
        "\n",
        "for move in tabelWrapping:\n",
        "    move = move % len(Co)\n",
        "    Do = Do[move:] + Do[:move]\n",
        "    Co = Co[move:] + Co[:move]\n",
        "    C.append(Co)\n",
        "    D.append(Do)\n",
        "\n",
        "for i in range(0,16):\n",
        "  print(\"C\",nomer,\" = \",C[i],sep='')\n",
        "  print(\"D\",nomer,\" = \",D[i],sep='')\n",
        "  print(\"\")\n",
        "  nomer+=1\n",
        ""
      ],
      "metadata": {
        "id": "0WuVg-64bDFT",
        "outputId": "265f912e-b2eb-4135-de33-64085592cb0b",
        "colab": {
          "base_uri": "https://localhost:8080/"
        }
      },
      "execution_count": 82,
      "outputs": [
        {
          "output_type": "stream",
          "name": "stdout",
          "text": [
            "C0 = ['0', '1', '1', '0', '1', '0', '0', '1', '0', '1', '1', '1', '0', '0', '1', '1', '0', '1', '1', '0', '0', '1', '1', '1', '0', '1', '1', '1']\n",
            "D0 = ['0', '1', '1', '0', '1', '0', '0', '1', '0', '1', '1', '1', '0', '0', '1', '1', '0', '1', '1', '0', '0', '1', '1', '1', '0', '1', '1', '1']\n",
            "\n",
            "C1 = ['1', '1', '0', '1', '0', '0', '1', '0', '1', '1', '1', '0', '0', '1', '1', '0', '1', '1', '0', '0', '1', '1', '1', '0', '1', '1', '1', '0']\n",
            "D1 = ['1', '1', '0', '1', '0', '0', '1', '0', '1', '1', '1', '0', '0', '1', '1', '0', '1', '1', '0', '0', '1', '1', '1', '0', '1', '1', '1', '0']\n",
            "\n",
            "C2 = ['1', '0', '1', '0', '0', '1', '0', '1', '1', '1', '0', '0', '1', '1', '0', '1', '1', '0', '0', '1', '1', '1', '0', '1', '1', '1', '0', '1']\n",
            "D2 = ['1', '0', '1', '0', '0', '1', '0', '1', '1', '1', '0', '0', '1', '1', '0', '1', '1', '0', '0', '1', '1', '1', '0', '1', '1', '1', '0', '1']\n",
            "\n",
            "C3 = ['1', '0', '0', '1', '0', '1', '1', '1', '0', '0', '1', '1', '0', '1', '1', '0', '0', '1', '1', '1', '0', '1', '1', '1', '0', '1', '1', '0']\n",
            "D3 = ['1', '0', '0', '1', '0', '1', '1', '1', '0', '0', '1', '1', '0', '1', '1', '0', '0', '1', '1', '1', '0', '1', '1', '1', '0', '1', '1', '0']\n",
            "\n",
            "C4 = ['0', '1', '0', '1', '1', '1', '0', '0', '1', '1', '0', '1', '1', '0', '0', '1', '1', '1', '0', '1', '1', '1', '0', '1', '1', '0', '1', '0']\n",
            "D4 = ['0', '1', '0', '1', '1', '1', '0', '0', '1', '1', '0', '1', '1', '0', '0', '1', '1', '1', '0', '1', '1', '1', '0', '1', '1', '0', '1', '0']\n",
            "\n",
            "C5 = ['0', '1', '1', '1', '0', '0', '1', '1', '0', '1', '1', '0', '0', '1', '1', '1', '0', '1', '1', '1', '0', '1', '1', '0', '1', '0', '0', '1']\n",
            "D5 = ['0', '1', '1', '1', '0', '0', '1', '1', '0', '1', '1', '0', '0', '1', '1', '1', '0', '1', '1', '1', '0', '1', '1', '0', '1', '0', '0', '1']\n",
            "\n",
            "C6 = ['1', '1', '0', '0', '1', '1', '0', '1', '1', '0', '0', '1', '1', '1', '0', '1', '1', '1', '0', '1', '1', '0', '1', '0', '0', '1', '0', '1']\n",
            "D6 = ['1', '1', '0', '0', '1', '1', '0', '1', '1', '0', '0', '1', '1', '1', '0', '1', '1', '1', '0', '1', '1', '0', '1', '0', '0', '1', '0', '1']\n",
            "\n",
            "C7 = ['0', '0', '1', '1', '0', '1', '1', '0', '0', '1', '1', '1', '0', '1', '1', '1', '0', '1', '1', '0', '1', '0', '0', '1', '0', '1', '1', '1']\n",
            "D7 = ['0', '0', '1', '1', '0', '1', '1', '0', '0', '1', '1', '1', '0', '1', '1', '1', '0', '1', '1', '0', '1', '0', '0', '1', '0', '1', '1', '1']\n",
            "\n",
            "C8 = ['1', '1', '0', '1', '1', '0', '0', '1', '1', '1', '0', '1', '1', '1', '0', '1', '1', '0', '1', '0', '0', '1', '0', '1', '1', '1', '0', '0']\n",
            "D8 = ['1', '1', '0', '1', '1', '0', '0', '1', '1', '1', '0', '1', '1', '1', '0', '1', '1', '0', '1', '0', '0', '1', '0', '1', '1', '1', '0', '0']\n",
            "\n",
            "C9 = ['1', '0', '1', '1', '0', '0', '1', '1', '1', '0', '1', '1', '1', '0', '1', '1', '0', '1', '0', '0', '1', '0', '1', '1', '1', '0', '0', '1']\n",
            "D9 = ['1', '0', '1', '1', '0', '0', '1', '1', '1', '0', '1', '1', '1', '0', '1', '1', '0', '1', '0', '0', '1', '0', '1', '1', '1', '0', '0', '1']\n",
            "\n",
            "C10 = ['1', '1', '0', '0', '1', '1', '1', '0', '1', '1', '1', '0', '1', '1', '0', '1', '0', '0', '1', '0', '1', '1', '1', '0', '0', '1', '1', '0']\n",
            "D10 = ['1', '1', '0', '0', '1', '1', '1', '0', '1', '1', '1', '0', '1', '1', '0', '1', '0', '0', '1', '0', '1', '1', '1', '0', '0', '1', '1', '0']\n",
            "\n",
            "C11 = ['0', '0', '1', '1', '1', '0', '1', '1', '1', '0', '1', '1', '0', '1', '0', '0', '1', '0', '1', '1', '1', '0', '0', '1', '1', '0', '1', '1']\n",
            "D11 = ['0', '0', '1', '1', '1', '0', '1', '1', '1', '0', '1', '1', '0', '1', '0', '0', '1', '0', '1', '1', '1', '0', '0', '1', '1', '0', '1', '1']\n",
            "\n",
            "C12 = ['1', '1', '1', '0', '1', '1', '1', '0', '1', '1', '0', '1', '0', '0', '1', '0', '1', '1', '1', '0', '0', '1', '1', '0', '1', '1', '0', '0']\n",
            "D12 = ['1', '1', '1', '0', '1', '1', '1', '0', '1', '1', '0', '1', '0', '0', '1', '0', '1', '1', '1', '0', '0', '1', '1', '0', '1', '1', '0', '0']\n",
            "\n",
            "C13 = ['1', '0', '1', '1', '1', '0', '1', '1', '0', '1', '0', '0', '1', '0', '1', '1', '1', '0', '0', '1', '1', '0', '1', '1', '0', '0', '1', '1']\n",
            "D13 = ['1', '0', '1', '1', '1', '0', '1', '1', '0', '1', '0', '0', '1', '0', '1', '1', '1', '0', '0', '1', '1', '0', '1', '1', '0', '0', '1', '1']\n",
            "\n",
            "C14 = ['1', '1', '1', '0', '1', '1', '0', '1', '0', '0', '1', '0', '1', '1', '1', '0', '0', '1', '1', '0', '1', '1', '0', '0', '1', '1', '1', '0']\n",
            "D14 = ['1', '1', '1', '0', '1', '1', '0', '1', '0', '0', '1', '0', '1', '1', '1', '0', '0', '1', '1', '0', '1', '1', '0', '0', '1', '1', '1', '0']\n",
            "\n",
            "C15 = ['1', '0', '1', '1', '0', '1', '0', '0', '1', '0', '1', '1', '1', '0', '0', '1', '1', '0', '1', '1', '0', '0', '1', '1', '1', '0', '1', '1']\n",
            "D15 = ['1', '0', '1', '1', '0', '1', '0', '0', '1', '0', '1', '1', '1', '0', '0', '1', '1', '0', '1', '1', '0', '0', '1', '1', '1', '0', '1', '1']\n",
            "\n",
            "C16 = ['0', '1', '1', '0', '1', '0', '0', '1', '0', '1', '1', '1', '0', '0', '1', '1', '0', '1', '1', '0', '0', '1', '1', '1', '0', '1', '1', '1']\n",
            "D16 = ['0', '1', '1', '0', '1', '0', '0', '1', '0', '1', '1', '1', '0', '0', '1', '1', '0', '1', '1', '0', '0', '1', '1', '1', '0', '1', '1', '1']\n",
            "\n"
          ]
        }
      ]
    }
  ],
  "metadata": {
    "colab": {
      "provenance": [],
      "authorship_tag": "ABX9TyOzhC7mHnK9Ekikmz3448on",
      "include_colab_link": true
    },
    "kernelspec": {
      "display_name": "Python 3",
      "name": "python3"
    },
    "language_info": {
      "name": "python"
    }
  },
  "nbformat": 4,
  "nbformat_minor": 0
}